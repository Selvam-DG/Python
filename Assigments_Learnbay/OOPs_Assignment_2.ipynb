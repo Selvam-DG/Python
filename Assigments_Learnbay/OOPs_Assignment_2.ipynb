{
 "cells": [
  {
   "cell_type": "code",
   "execution_count": 1,
   "id": "d74805b1",
   "metadata": {},
   "outputs": [],
   "source": [
    "# Q1.\n",
    "# a. Create a class Contacts and define a constructor.\n",
    "# Take 2 attributes while initializing - name and mobile number.\n",
    "\n",
    "# b. Define a class variable - contact list - in which the objects of the Contacts class will be \n",
    "# appended at the time of instantiation.\n",
    "\n",
    "# c. Define a method which takes a 'name' of a contact (object) as an argument \n",
    "# and returns the mobile number of that contact (object).\n",
    "# Hint: Use the contact list class variable in which the objects are stored to fetch \n",
    "# the mobile number using the name."
   ]
  },
  {
   "cell_type": "code",
   "execution_count": 69,
   "id": "38630006",
   "metadata": {},
   "outputs": [],
   "source": [
    "class Contacts:\n",
    "    contact_list = []\n",
    "    def __init__(self,name,mob_num):\n",
    "        self.Name = name\n",
    "        self.Mob_num = mob_num\n",
    "        Contacts.contact_list.append(self.Name)\n",
    "    def name(self,name):\n",
    "        if name in self.contact_list:\n",
    "            return self.Mob_num\n",
    "        else:\n",
    "            return 'Sorry! Not found'\n",
    "    "
   ]
  },
  {
   "cell_type": "code",
   "execution_count": 70,
   "id": "f7c9b632",
   "metadata": {
    "scrolled": false
   },
   "outputs": [
    {
     "data": {
      "text/plain": [
       "['sel', 'vam']"
      ]
     },
     "execution_count": 70,
     "metadata": {},
     "output_type": "execute_result"
    }
   ],
   "source": [
    "c1 = Contacts('sel','101')\n",
    "# c1.n\n",
    "# c1.num\n",
    "c1.contact_list\n",
    "c2 = Contacts('vam','103')\n",
    "c2.contact_list"
   ]
  },
  {
   "cell_type": "code",
   "execution_count": 64,
   "id": "c9842994",
   "metadata": {},
   "outputs": [],
   "source": [
    "c1 = Contacts('sel','101')\n",
    "\n"
   ]
  },
  {
   "cell_type": "code",
   "execution_count": 71,
   "id": "266b6daf",
   "metadata": {
    "scrolled": false
   },
   "outputs": [
    {
     "data": {
      "text/plain": [
       "'101'"
      ]
     },
     "execution_count": 71,
     "metadata": {},
     "output_type": "execute_result"
    }
   ],
   "source": [
    "c1.name('sel')"
   ]
  },
  {
   "cell_type": "code",
   "execution_count": 2,
   "id": "106f43a9",
   "metadata": {},
   "outputs": [],
   "source": [
    "# Q2.\n",
    "# a. Create a class Square. Define a initializer that initializes one attribute - side of the square.\n",
    "# b. Define 2 methods - area and perimeter which returns the area and the poerimeter respectively.\n",
    "# c. Change the side attribute to private\n",
    "# d. Create getter and setter methods for side attribute. Write a logic which does not allow \n",
    "# anyone to set the side to a negative or zero value.\n",
    "\n",
    "# Do we need to change the area and perimeter methods after changing the side attibute to private?"
   ]
  },
  {
   "cell_type": "code",
   "execution_count": 97,
   "id": "0bf31fe4",
   "metadata": {},
   "outputs": [],
   "source": [
    "class Square:                  # defining class\n",
    "    \n",
    "    def __init__(self,side):          # defining constructor or initializer\n",
    "        self.__side = side\n",
    "        \n",
    "    def area(self):                  # def instance methods\n",
    "        return self.__side*self.__side\n",
    "    \n",
    "    def perimeter(self):             # def perimeter of square by instance method\n",
    "        return 4*self.__side\n",
    "    \n",
    "    def get_side(self):              # getter method\n",
    "        return self.__side\n",
    "        \n",
    "    \n",
    "    def set_side(self,new_side):         # setter method\n",
    "        if new_side < 0:\n",
    "            return 'Negative value is invalid'\n",
    "        elif new_side == 0:\n",
    "            return 'Zero value is invalie'\n",
    "        else:\n",
    "            self.__side = new_side\n",
    "    "
   ]
  },
  {
   "cell_type": "code",
   "execution_count": 98,
   "id": "63dd1a68",
   "metadata": {
    "scrolled": true
   },
   "outputs": [
    {
     "name": "stdout",
     "output_type": "stream",
     "text": [
      "4\n",
      "8\n"
     ]
    }
   ],
   "source": [
    "s1= Square(2)\n",
    "print(s1.area())\n",
    "print(s1.perimeter())"
   ]
  },
  {
   "cell_type": "code",
   "execution_count": 95,
   "id": "8b3de716",
   "metadata": {},
   "outputs": [
    {
     "data": {
      "text/plain": [
       "2"
      ]
     },
     "execution_count": 95,
     "metadata": {},
     "output_type": "execute_result"
    }
   ],
   "source": [
    "s1.side"
   ]
  },
  {
   "cell_type": "code",
   "execution_count": 92,
   "id": "909f3bef",
   "metadata": {},
   "outputs": [
    {
     "data": {
      "text/plain": [
       "'Negative value is invalid'"
      ]
     },
     "execution_count": 92,
     "metadata": {},
     "output_type": "execute_result"
    }
   ],
   "source": [
    "s1.set_side(-1)"
   ]
  },
  {
   "cell_type": "code",
   "execution_count": 93,
   "id": "3a7400ae",
   "metadata": {},
   "outputs": [
    {
     "data": {
      "text/plain": [
       "'Zero value is invalie'"
      ]
     },
     "execution_count": 93,
     "metadata": {},
     "output_type": "execute_result"
    }
   ],
   "source": [
    "s1.set_side(0)"
   ]
  },
  {
   "cell_type": "code",
   "execution_count": 104,
   "id": "368da299",
   "metadata": {},
   "outputs": [
    {
     "data": {
      "text/plain": [
       "2"
      ]
     },
     "execution_count": 104,
     "metadata": {},
     "output_type": "execute_result"
    }
   ],
   "source": [
    "s1._Square__side  # made the side as private variable"
   ]
  },
  {
   "cell_type": "code",
   "execution_count": 5,
   "id": "ac720e0a",
   "metadata": {},
   "outputs": [],
   "source": [
    "class Square:                  # defining class\n",
    "    \n",
    "    def __init__(self,side):          # defining constructor or initializer\n",
    "        self.__side = side\n",
    "        \n",
    "    def area(self):                  # def instance methods\n",
    "        return self.__side*self.__side\n",
    "    \n",
    "    def perimeter(self):             # def perimeter of square by instance method\n",
    "        return 4*self.__side\n",
    "    \n",
    "    @property\n",
    "    def get_side(self):              # getter method\n",
    "        return self.__side\n",
    "        \n",
    "    @get_side.setter\n",
    "    def set_side(self,new_side):         # setter method\n",
    "        if new_side < 0:\n",
    "            print('Negative value is invalid')\n",
    "        elif new_side == 0:\n",
    "            print('Zero value is invalid')\n",
    "        else:\n",
    "            self.__side = new_side\n",
    "    "
   ]
  },
  {
   "cell_type": "code",
   "execution_count": 6,
   "id": "99057a3c",
   "metadata": {},
   "outputs": [
    {
     "name": "stdout",
     "output_type": "stream",
     "text": [
      "4\n",
      "8\n"
     ]
    }
   ],
   "source": [
    "s1= Square(2)\n",
    "print(s1.area())\n",
    "print(s1.perimeter())"
   ]
  },
  {
   "cell_type": "code",
   "execution_count": 7,
   "id": "967011d1",
   "metadata": {
    "scrolled": true
   },
   "outputs": [
    {
     "name": "stdout",
     "output_type": "stream",
     "text": [
      "9\n",
      "12\n"
     ]
    }
   ],
   "source": [
    "s1.set_side = 3\n",
    "print(s1.area())\n",
    "print(s1.perimeter())"
   ]
  },
  {
   "cell_type": "code",
   "execution_count": 8,
   "id": "ef416c8b",
   "metadata": {},
   "outputs": [
    {
     "name": "stdout",
     "output_type": "stream",
     "text": [
      "Negative value is invalid\n"
     ]
    }
   ],
   "source": [
    "s1.set_side =-1"
   ]
  },
  {
   "cell_type": "code",
   "execution_count": 9,
   "id": "f8dcae80",
   "metadata": {},
   "outputs": [
    {
     "name": "stdout",
     "output_type": "stream",
     "text": [
      "Zero value is invalid\n"
     ]
    }
   ],
   "source": [
    "s1.set_side = 0"
   ]
  },
  {
   "cell_type": "code",
   "execution_count": 3,
   "id": "ed978db1",
   "metadata": {},
   "outputs": [],
   "source": [
    "# Q3. \n",
    "# a. Create a class Triangle with 3 sides as instance variables (attributes).\n",
    "# b. Define a area() function that calculates the area of the given triangle object.\n",
    "# Formula: √(s(s-a)(s-b)(s-c), where, a,b,c are sides of the triangle and s = (a+b+c)/2\n",
    "# c. Create another class EquilateralTriangle which inherits class Triangle.\n",
    "# Define a initializer that initializes one attribute - side of the equilateral triangle.\n",
    "# d. Initialize the parent class from child class\n",
    "# e. Calculate the area of an object of EquilateralTriangle using the area method of class Triangle.\n",
    "           \n",
    "# NOTE: equilateral triangle is a triangle whose all sides are equal."
   ]
  },
  {
   "cell_type": "code",
   "execution_count": 28,
   "id": "be11264c",
   "metadata": {},
   "outputs": [],
   "source": [
    "import math as m\n",
    "class Triangle:\n",
    "    \n",
    "    def __init__(self,side1,side2,side3):\n",
    "        self.a = side1\n",
    "        self.b = side2\n",
    "        self.c = side3\n",
    "        \n",
    "    def area(self):\n",
    "        s = (self.a + self.b + self.c)/2\n",
    "        A = m.sqrt(s*(s-self.a)*(s-self.b)*(self.c))\n",
    "        return A\n",
    "\n",
    "class EquilateralTriangle(Triangle):\n",
    "    \n",
    "    def __init__(self,side):\n",
    "        self.s = side\n",
    "        super().__init__(self.s,self.s,self.s)\n",
    "    \n",
    "    def Eq_area(self):\n",
    "        print(super().area())\n",
    "    \n",
    "    "
   ]
  },
  {
   "cell_type": "code",
   "execution_count": 29,
   "id": "9f7cd97b",
   "metadata": {
    "scrolled": true
   },
   "outputs": [
    {
     "data": {
      "text/plain": [
       "8.215838362577491"
      ]
     },
     "execution_count": 29,
     "metadata": {},
     "output_type": "execute_result"
    }
   ],
   "source": [
    "T1= Triangle(2,3,4)\n",
    "T1.area()\n",
    "\n",
    "# e1= EquilateralTriangle(3)"
   ]
  },
  {
   "cell_type": "code",
   "execution_count": 30,
   "id": "0ec9dbd9",
   "metadata": {
    "scrolled": true
   },
   "outputs": [
    {
     "data": {
      "text/plain": [
       "5.5113519212621505"
      ]
     },
     "execution_count": 30,
     "metadata": {},
     "output_type": "execute_result"
    }
   ],
   "source": [
    "e1 = EquilateralTriangle(3)\n",
    "e1.area()"
   ]
  },
  {
   "cell_type": "code",
   "execution_count": 31,
   "id": "b98b91e8",
   "metadata": {},
   "outputs": [
    {
     "data": {
      "text/plain": [
       "5.5113519212621505"
      ]
     },
     "execution_count": 31,
     "metadata": {},
     "output_type": "execute_result"
    }
   ],
   "source": [
    "T1= Triangle(3,3,3)\n",
    "T1.area()\n"
   ]
  },
  {
   "cell_type": "code",
   "execution_count": null,
   "id": "e900b75b",
   "metadata": {},
   "outputs": [],
   "source": []
  },
  {
   "cell_type": "code",
   "execution_count": 32,
   "id": "8ecc6880",
   "metadata": {},
   "outputs": [],
   "source": [
    "# Q4. Find the MRO for class F.\n",
    "\n",
    "class A:\n",
    "    pass\n",
    "\n",
    "class B:\n",
    "    pass\n",
    "\n",
    "class C:\n",
    "    pass\n",
    "\n",
    "class D(A,B):\n",
    "    pass\n",
    "\n",
    "class E(B,C):\n",
    "    pass\n",
    "\n",
    "class F(D,E,C):\n",
    "    pass"
   ]
  },
  {
   "cell_type": "code",
   "execution_count": 33,
   "id": "d3b4d732",
   "metadata": {},
   "outputs": [
    {
     "data": {
      "text/plain": [
       "(__main__.F,\n",
       " __main__.D,\n",
       " __main__.A,\n",
       " __main__.E,\n",
       " __main__.B,\n",
       " __main__.C,\n",
       " object)"
      ]
     },
     "execution_count": 33,
     "metadata": {},
     "output_type": "execute_result"
    }
   ],
   "source": [
    "F.__mro__"
   ]
  }
 ],
 "metadata": {
  "kernelspec": {
   "display_name": "Python 3 (ipykernel)",
   "language": "python",
   "name": "python3"
  },
  "language_info": {
   "codemirror_mode": {
    "name": "ipython",
    "version": 3
   },
   "file_extension": ".py",
   "mimetype": "text/x-python",
   "name": "python",
   "nbconvert_exporter": "python",
   "pygments_lexer": "ipython3",
   "version": "3.11.5"
  }
 },
 "nbformat": 4,
 "nbformat_minor": 5
}
