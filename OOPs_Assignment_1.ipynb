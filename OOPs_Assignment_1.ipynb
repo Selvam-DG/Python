{
 "cells": [
  {
   "cell_type": "code",
   "execution_count": 2,
   "id": "4613cee6",
   "metadata": {},
   "outputs": [],
   "source": [
    "# Q1. \n",
    "# a. Write a program to create a class Rectangle. Initialize the length and breadth of the rectangle \n",
    "# using constructor.\n",
    "\n",
    "# b. Create 2 instance methods: one to return the area and another to \n",
    "# return the perimeter of the given rectangle.\n",
    "\n",
    "# c. Create 3 Rectangle objects. Each object will take 2 values as mentioned above - \n",
    "# length and breadth of that rectangle.\n",
    "\n",
    "# d. print the area and perimeters of each rectangle object.\n",
    "\n",
    "\n",
    "class Rectangle():\n",
    "    '''Rectangle contain intiger value of length(int) and breadth(int) which are not equal.\n",
    "    if length and breadth are equal, then it is a square.\n",
    "    '''\n",
    "    \n",
    "    def __init__(self,length,breadth):\n",
    "        self.len = length\n",
    "        self.bre = breadth\n",
    "        \n",
    "    def area(self):\n",
    "        return f\"Area is {self.len *self.bre}\"\n",
    "    \n",
    "    def perimeter(self):\n",
    "        per = 2*(self.len +self.bre)\n",
    "        return f\"Perimter of a rectangle is {per}\""
   ]
  },
  {
   "cell_type": "code",
   "execution_count": 3,
   "id": "40c1b183",
   "metadata": {
    "scrolled": false
   },
   "outputs": [
    {
     "name": "stdout",
     "output_type": "stream",
     "text": [
      "Area is 6\n"
     ]
    },
    {
     "data": {
      "text/plain": [
       "'Perimter of a rectangle is 10'"
      ]
     },
     "execution_count": 3,
     "metadata": {},
     "output_type": "execute_result"
    }
   ],
   "source": [
    "r1 = Rectangle(2,3)\n",
    "print(r1.area())\n",
    "\n",
    "r1.perimeter()"
   ]
  },
  {
   "cell_type": "code",
   "execution_count": 11,
   "id": "9f2c3cdf",
   "metadata": {},
   "outputs": [
    {
     "name": "stdout",
     "output_type": "stream",
     "text": [
      "Rectangle contain intiger value of length(int) and breadth(int) which are not equal.\n",
      "    if length and breadth are equal, then it is a square.\n",
      "    \n",
      "{'len': 2, 'bre': 3}\n",
      "['__class__', '__delattr__', '__dict__', '__dir__', '__doc__', '__eq__', '__format__', '__ge__', '__getattribute__', '__getstate__', '__gt__', '__hash__', '__init__', '__init_subclass__', '__le__', '__lt__', '__module__', '__ne__', '__new__', '__reduce__', '__reduce_ex__', '__repr__', '__setattr__', '__sizeof__', '__str__', '__subclasshook__', '__weakref__', 'area', 'bre', 'len', 'perimeter']\n",
      "\n",
      " Usig help\n",
      "\n",
      "Help on Rectangle in module __main__ object:\n",
      "\n",
      "class Rectangle(builtins.object)\n",
      " |  Rectangle(length, breadth)\n",
      " |  \n",
      " |  Rectangle contain intiger value of length(int) and breadth(int) which are not equal.\n",
      " |  if length and breadth are equal, then it is a square.\n",
      " |  \n",
      " |  Methods defined here:\n",
      " |  \n",
      " |  __init__(self, length, breadth)\n",
      " |      Initialize self.  See help(type(self)) for accurate signature.\n",
      " |  \n",
      " |  area(self)\n",
      " |  \n",
      " |  perimeter(self)\n",
      " |  \n",
      " |  ----------------------------------------------------------------------\n",
      " |  Data descriptors defined here:\n",
      " |  \n",
      " |  __dict__\n",
      " |      dictionary for instance variables (if defined)\n",
      " |  \n",
      " |  __weakref__\n",
      " |      list of weak references to the object (if defined)\n",
      "\n"
     ]
    }
   ],
   "source": [
    "# Q2. \n",
    "# a. Add documentation for class Rectangle.\n",
    "# b. Check the doc using special method\n",
    "# c. Print all the details of the class (Use special attribute)\n",
    "# d. Print all the details of the class (Use help)\n",
    "# Observe the differences\n",
    "print(r1.__doc__)\n",
    "print(r1.__dict__)\n",
    "print(dir(r1))\n",
    "\n",
    "print('\\n Usig help\\n')\n",
    "help(r1)"
   ]
  },
  {
   "cell_type": "code",
   "execution_count": 3,
   "id": "c326cd8c",
   "metadata": {},
   "outputs": [],
   "source": [
    "# Q3. \n",
    "# a. Access the attributes using a object\n",
    "# b. Change the height of a rectangle object\n",
    "# c. Check if makes any difference to the height attribute of other objects.\n",
    "# d. Add a new attribute to one of the objects\n",
    "# e. Check if the attribute is available to new objects of the class"
   ]
  },
  {
   "cell_type": "code",
   "execution_count": 29,
   "id": "62081524",
   "metadata": {},
   "outputs": [
    {
     "data": {
      "text/plain": [
       "2"
      ]
     },
     "execution_count": 29,
     "metadata": {},
     "output_type": "execute_result"
    }
   ],
   "source": [
    "r1.len"
   ]
  },
  {
   "cell_type": "code",
   "execution_count": 30,
   "id": "fa155da4",
   "metadata": {},
   "outputs": [],
   "source": [
    "r1.bre = 5"
   ]
  },
  {
   "cell_type": "code",
   "execution_count": 31,
   "id": "9a478948",
   "metadata": {},
   "outputs": [
    {
     "data": {
      "text/plain": [
       "'Area is 10'"
      ]
     },
     "execution_count": 31,
     "metadata": {},
     "output_type": "execute_result"
    }
   ],
   "source": [
    "r1.area()"
   ]
  },
  {
   "cell_type": "code",
   "execution_count": 32,
   "id": "e87146e8",
   "metadata": {},
   "outputs": [],
   "source": [
    "r1.angle = 0"
   ]
  },
  {
   "cell_type": "code",
   "execution_count": 33,
   "id": "793a7019",
   "metadata": {},
   "outputs": [
    {
     "data": {
      "text/plain": [
       "{'len': 2, 'bre': 5, 'angle': 0}"
      ]
     },
     "execution_count": 33,
     "metadata": {},
     "output_type": "execute_result"
    }
   ],
   "source": [
    "r1.__dict__"
   ]
  },
  {
   "cell_type": "code",
   "execution_count": null,
   "id": "1203c88a",
   "metadata": {},
   "outputs": [],
   "source": []
  },
  {
   "cell_type": "code",
   "execution_count": null,
   "id": "49a62781",
   "metadata": {},
   "outputs": [],
   "source": []
  }
 ],
 "metadata": {
  "kernelspec": {
   "display_name": "Python 3 (ipykernel)",
   "language": "python",
   "name": "python3"
  },
  "language_info": {
   "codemirror_mode": {
    "name": "ipython",
    "version": 3
   },
   "file_extension": ".py",
   "mimetype": "text/x-python",
   "name": "python",
   "nbconvert_exporter": "python",
   "pygments_lexer": "ipython3",
   "version": "3.11.5"
  }
 },
 "nbformat": 4,
 "nbformat_minor": 5
}
