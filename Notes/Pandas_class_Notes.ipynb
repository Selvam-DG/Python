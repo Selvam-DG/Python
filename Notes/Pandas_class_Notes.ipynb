{
 "cells": [
  {
   "cell_type": "code",
   "execution_count": 22,
   "id": "5d38c3f9",
   "metadata": {},
   "outputs": [],
   "source": [
    "import numpy as np\n",
    "import pandas as pd\n"
   ]
  },
  {
   "cell_type": "markdown",
   "id": "ecce3c0b",
   "metadata": {},
   "source": [
    "# Series"
   ]
  },
  {
   "cell_type": "code",
   "execution_count": 2,
   "id": "062cbc87",
   "metadata": {},
   "outputs": [
    {
     "data": {
      "text/plain": [
       "['raghu', 'sun', 'sani', 'chandra', 'kedhu']"
      ]
     },
     "execution_count": 2,
     "metadata": {},
     "output_type": "execute_result"
    }
   ],
   "source": [
    "name = ['raghu','sun','sani','chandra','kedhu']\n",
    "name"
   ]
  },
  {
   "cell_type": "code",
   "execution_count": 4,
   "id": "ee9fac5f",
   "metadata": {},
   "outputs": [
    {
     "data": {
      "text/plain": [
       "0      raghu\n",
       "1        sun\n",
       "2       sani\n",
       "3    chandra\n",
       "4      kedhu\n",
       "dtype: object"
      ]
     },
     "execution_count": 4,
     "metadata": {},
     "output_type": "execute_result"
    }
   ],
   "source": [
    "nav = pd.Series(name)\n",
    "nav"
   ]
  },
  {
   "cell_type": "code",
   "execution_count": 5,
   "id": "8ae962f0",
   "metadata": {},
   "outputs": [
    {
     "data": {
      "text/plain": [
       "A      raghu\n",
       "B        sun\n",
       "C       sani\n",
       "D    chandra\n",
       "E      kedhu\n",
       "dtype: object"
      ]
     },
     "execution_count": 5,
     "metadata": {},
     "output_type": "execute_result"
    }
   ],
   "source": [
    "nav_ser = pd.Series(name, index = ['A','B','C','D','E'])\n",
    "nav_ser"
   ]
  },
  {
   "cell_type": "code",
   "execution_count": 10,
   "id": "15a23bda",
   "metadata": {},
   "outputs": [
    {
     "data": {
      "text/plain": [
       "Z      raghu\n",
       "Y        sun\n",
       "W       sani\n",
       "X    chandra\n",
       "V      kedhu\n",
       "dtype: object"
      ]
     },
     "execution_count": 10,
     "metadata": {},
     "output_type": "execute_result"
    }
   ],
   "source": [
    "nav_ser = pd.Series(name, index = list('ZYWXV'))\n",
    "nav_ser"
   ]
  },
  {
   "cell_type": "code",
   "execution_count": 6,
   "id": "b6e3dc15",
   "metadata": {},
   "outputs": [
    {
     "data": {
      "text/plain": [
       "['raghu', 'sun', 'sani', 'chandra', 'kedhu']"
      ]
     },
     "execution_count": 6,
     "metadata": {},
     "output_type": "execute_result"
    }
   ],
   "source": [
    "list(nav_ser)"
   ]
  },
  {
   "cell_type": "code",
   "execution_count": 12,
   "id": "9d30ca01",
   "metadata": {},
   "outputs": [
    {
     "data": {
      "text/plain": [
       "name1     Ani\n",
       "name2     Bal\n",
       "name3    Cath\n",
       "name4    Derk\n",
       "dtype: object"
      ]
     },
     "execution_count": 12,
     "metadata": {},
     "output_type": "execute_result"
    }
   ],
   "source": [
    "dic = {'name1': 'Ani','name2':'Bal','name3':'Cath','name4':'Derk'}\n",
    "se_dic = pd.Series(dic)\n",
    "se_dic"
   ]
  },
  {
   "cell_type": "code",
   "execution_count": 18,
   "id": "9a463330",
   "metadata": {},
   "outputs": [
    {
     "name": "stdout",
     "output_type": "stream",
     "text": [
      "Ani\n",
      "name2\n",
      "Cath\n"
     ]
    }
   ],
   "source": [
    "print(se_dic[0])\n",
    "print('name2')\n",
    "print(se_dic.iloc[2])"
   ]
  },
  {
   "cell_type": "code",
   "execution_count": 19,
   "id": "82de0646",
   "metadata": {},
   "outputs": [
    {
     "data": {
      "text/plain": [
       "teuer               billig\n",
       "dunkell               hell\n",
       "hubsich           hasslich\n",
       "freundlich    unfreundlich\n",
       "dtype: object"
      ]
     },
     "execution_count": 19,
     "metadata": {},
     "output_type": "execute_result"
    }
   ],
   "source": [
    "l1 = ['teuer','dunkell','hubsich','freundlich']\n",
    "l2 = ['billig','hell','hasslich','unfreundlich']\n",
    "ser_gegenteil = pd.Series(l2, index= l1)\n",
    "ser_gegenteil"
   ]
  },
  {
   "cell_type": "code",
   "execution_count": 20,
   "id": "4bfc5e8d",
   "metadata": {},
   "outputs": [
    {
     "data": {
      "text/plain": [
       "teuer        billig\n",
       "hubsich    hasslich\n",
       "dtype: object"
      ]
     },
     "execution_count": 20,
     "metadata": {},
     "output_type": "execute_result"
    }
   ],
   "source": [
    "ser_gegenteil[::2]"
   ]
  },
  {
   "cell_type": "code",
   "execution_count": 21,
   "id": "9e333b69",
   "metadata": {},
   "outputs": [
    {
     "data": {
      "text/plain": [
       "teuer        billig\n",
       "dunkell        hell\n",
       "hubsich    hasslich\n",
       "dtype: object"
      ]
     },
     "execution_count": 21,
     "metadata": {},
     "output_type": "execute_result"
    }
   ],
   "source": [
    "ser_gegenteil[:'hubsich']"
   ]
  },
  {
   "cell_type": "markdown",
   "id": "260ddf89",
   "metadata": {},
   "source": [
    "# DataFrame"
   ]
  },
  {
   "cell_type": "code",
   "execution_count": 23,
   "id": "6e58beb8",
   "metadata": {},
   "outputs": [
    {
     "data": {
      "text/html": [
       "<div>\n",
       "<style scoped>\n",
       "    .dataframe tbody tr th:only-of-type {\n",
       "        vertical-align: middle;\n",
       "    }\n",
       "\n",
       "    .dataframe tbody tr th {\n",
       "        vertical-align: top;\n",
       "    }\n",
       "\n",
       "    .dataframe thead th {\n",
       "        text-align: right;\n",
       "    }\n",
       "</style>\n",
       "<table border=\"1\" class=\"dataframe\">\n",
       "  <thead>\n",
       "    <tr style=\"text-align: right;\">\n",
       "      <th></th>\n",
       "    </tr>\n",
       "  </thead>\n",
       "  <tbody>\n",
       "  </tbody>\n",
       "</table>\n",
       "</div>"
      ],
      "text/plain": [
       "Empty DataFrame\n",
       "Columns: []\n",
       "Index: []"
      ]
     },
     "execution_count": 23,
     "metadata": {},
     "output_type": "execute_result"
    }
   ],
   "source": [
    "emp_df = pd.DataFrame()\n",
    "emp_df"
   ]
  },
  {
   "cell_type": "code",
   "execution_count": 24,
   "id": "c598e9d4",
   "metadata": {},
   "outputs": [
    {
     "data": {
      "text/html": [
       "<div>\n",
       "<style scoped>\n",
       "    .dataframe tbody tr th:only-of-type {\n",
       "        vertical-align: middle;\n",
       "    }\n",
       "\n",
       "    .dataframe tbody tr th {\n",
       "        vertical-align: top;\n",
       "    }\n",
       "\n",
       "    .dataframe thead th {\n",
       "        text-align: right;\n",
       "    }\n",
       "</style>\n",
       "<table border=\"1\" class=\"dataframe\">\n",
       "  <thead>\n",
       "    <tr style=\"text-align: right;\">\n",
       "      <th></th>\n",
       "      <th>word</th>\n",
       "    </tr>\n",
       "  </thead>\n",
       "  <tbody>\n",
       "    <tr>\n",
       "      <th>0</th>\n",
       "      <td>teuer</td>\n",
       "    </tr>\n",
       "    <tr>\n",
       "      <th>1</th>\n",
       "      <td>dunkell</td>\n",
       "    </tr>\n",
       "    <tr>\n",
       "      <th>2</th>\n",
       "      <td>hubsich</td>\n",
       "    </tr>\n",
       "    <tr>\n",
       "      <th>3</th>\n",
       "      <td>freundlich</td>\n",
       "    </tr>\n",
       "  </tbody>\n",
       "</table>\n",
       "</div>"
      ],
      "text/plain": [
       "         word\n",
       "0       teuer\n",
       "1     dunkell\n",
       "2     hubsich\n",
       "3  freundlich"
      ]
     },
     "execution_count": 24,
     "metadata": {},
     "output_type": "execute_result"
    }
   ],
   "source": [
    "gegenteil_df1 = pd.DataFrame(l1, columns= ['word'])\n",
    "gegenteil_df1"
   ]
  },
  {
   "cell_type": "code",
   "execution_count": 28,
   "id": "863fac97",
   "metadata": {},
   "outputs": [
    {
     "data": {
      "text/html": [
       "<div>\n",
       "<style scoped>\n",
       "    .dataframe tbody tr th:only-of-type {\n",
       "        vertical-align: middle;\n",
       "    }\n",
       "\n",
       "    .dataframe tbody tr th {\n",
       "        vertical-align: top;\n",
       "    }\n",
       "\n",
       "    .dataframe thead th {\n",
       "        text-align: right;\n",
       "    }\n",
       "</style>\n",
       "<table border=\"1\" class=\"dataframe\">\n",
       "  <thead>\n",
       "    <tr style=\"text-align: right;\">\n",
       "      <th></th>\n",
       "      <th>Opposite word</th>\n",
       "    </tr>\n",
       "  </thead>\n",
       "  <tbody>\n",
       "    <tr>\n",
       "      <th>0</th>\n",
       "      <td>billig</td>\n",
       "    </tr>\n",
       "    <tr>\n",
       "      <th>1</th>\n",
       "      <td>hell</td>\n",
       "    </tr>\n",
       "    <tr>\n",
       "      <th>2</th>\n",
       "      <td>hasslich</td>\n",
       "    </tr>\n",
       "    <tr>\n",
       "      <th>3</th>\n",
       "      <td>unfreundlich</td>\n",
       "    </tr>\n",
       "  </tbody>\n",
       "</table>\n",
       "</div>"
      ],
      "text/plain": [
       "  Opposite word\n",
       "0        billig\n",
       "1          hell\n",
       "2      hasslich\n",
       "3  unfreundlich"
      ]
     },
     "execution_count": 28,
     "metadata": {},
     "output_type": "execute_result"
    }
   ],
   "source": [
    "gegenteil_df2 = pd.DataFrame(l2, columns= ['Opposite word'])\n",
    "gegenteil_df2"
   ]
  },
  {
   "cell_type": "code",
   "execution_count": 38,
   "id": "b1458a7e",
   "metadata": {},
   "outputs": [
    {
     "data": {
      "text/plain": [
       "[('teuer', 'billig'),\n",
       " ('dunkell', 'hell'),\n",
       " ('hubsich', 'hasslich'),\n",
       " ('freundlich', 'unfreundlich')]"
      ]
     },
     "execution_count": 38,
     "metadata": {},
     "output_type": "execute_result"
    }
   ],
   "source": [
    "gegenteil_df3 = list(zip(l1, l2))\n",
    "gegenteil_df3"
   ]
  },
  {
   "cell_type": "code",
   "execution_count": 39,
   "id": "80a736f2",
   "metadata": {},
   "outputs": [
    {
     "data": {
      "text/html": [
       "<div>\n",
       "<style scoped>\n",
       "    .dataframe tbody tr th:only-of-type {\n",
       "        vertical-align: middle;\n",
       "    }\n",
       "\n",
       "    .dataframe tbody tr th {\n",
       "        vertical-align: top;\n",
       "    }\n",
       "\n",
       "    .dataframe thead th {\n",
       "        text-align: right;\n",
       "    }\n",
       "</style>\n",
       "<table border=\"1\" class=\"dataframe\">\n",
       "  <thead>\n",
       "    <tr style=\"text-align: right;\">\n",
       "      <th></th>\n",
       "      <th>word</th>\n",
       "      <th>opposite word</th>\n",
       "    </tr>\n",
       "  </thead>\n",
       "  <tbody>\n",
       "    <tr>\n",
       "      <th>0</th>\n",
       "      <td>teuer</td>\n",
       "      <td>billig</td>\n",
       "    </tr>\n",
       "    <tr>\n",
       "      <th>1</th>\n",
       "      <td>dunkell</td>\n",
       "      <td>hell</td>\n",
       "    </tr>\n",
       "    <tr>\n",
       "      <th>2</th>\n",
       "      <td>hubsich</td>\n",
       "      <td>hasslich</td>\n",
       "    </tr>\n",
       "    <tr>\n",
       "      <th>3</th>\n",
       "      <td>freundlich</td>\n",
       "      <td>unfreundlich</td>\n",
       "    </tr>\n",
       "  </tbody>\n",
       "</table>\n",
       "</div>"
      ],
      "text/plain": [
       "         word opposite word\n",
       "0       teuer        billig\n",
       "1     dunkell          hell\n",
       "2     hubsich      hasslich\n",
       "3  freundlich  unfreundlich"
      ]
     },
     "execution_count": 39,
     "metadata": {},
     "output_type": "execute_result"
    }
   ],
   "source": [
    "gegenteil_df = pd.DataFrame(gegenteil_df3, columns = ['word','opposite word'])\n",
    "gegenteil_df"
   ]
  },
  {
   "cell_type": "code",
   "execution_count": null,
   "id": "ea73fe1a",
   "metadata": {},
   "outputs": [],
   "source": []
  },
  {
   "cell_type": "code",
   "execution_count": null,
   "id": "af069e67",
   "metadata": {},
   "outputs": [],
   "source": []
  },
  {
   "cell_type": "code",
   "execution_count": null,
   "id": "53e34423",
   "metadata": {},
   "outputs": [],
   "source": []
  },
  {
   "cell_type": "code",
   "execution_count": null,
   "id": "95a81842",
   "metadata": {},
   "outputs": [],
   "source": []
  },
  {
   "cell_type": "code",
   "execution_count": null,
   "id": "59aef874",
   "metadata": {},
   "outputs": [],
   "source": []
  },
  {
   "cell_type": "code",
   "execution_count": null,
   "id": "1e458199",
   "metadata": {},
   "outputs": [],
   "source": []
  },
  {
   "cell_type": "code",
   "execution_count": null,
   "id": "191527c8",
   "metadata": {},
   "outputs": [],
   "source": []
  },
  {
   "cell_type": "code",
   "execution_count": null,
   "id": "a104363a",
   "metadata": {},
   "outputs": [],
   "source": []
  }
 ],
 "metadata": {
  "kernelspec": {
   "display_name": "Python 3 (ipykernel)",
   "language": "python",
   "name": "python3"
  },
  "language_info": {
   "codemirror_mode": {
    "name": "ipython",
    "version": 3
   },
   "file_extension": ".py",
   "mimetype": "text/x-python",
   "name": "python",
   "nbconvert_exporter": "python",
   "pygments_lexer": "ipython3",
   "version": "3.11.3"
  }
 },
 "nbformat": 4,
 "nbformat_minor": 5
}
