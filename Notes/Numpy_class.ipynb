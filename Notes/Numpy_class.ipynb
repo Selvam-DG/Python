{
 "cells": [
  {
   "cell_type": "code",
   "execution_count": 2,
   "id": "c8b87394",
   "metadata": {},
   "outputs": [],
   "source": [
    "import numpy as np\n"
   ]
  },
  {
   "cell_type": "code",
   "execution_count": 7,
   "id": "956e507a",
   "metadata": {},
   "outputs": [
    {
     "name": "stdout",
     "output_type": "stream",
     "text": [
      "[1 2 3]\n"
     ]
    },
    {
     "data": {
      "text/plain": [
       "array([1, 2, 3])"
      ]
     },
     "execution_count": 7,
     "metadata": {},
     "output_type": "execute_result"
    }
   ],
   "source": [
    "arr = np.array([1,2,3])\n",
    "print(arr)\n",
    "arr"
   ]
  },
  {
   "cell_type": "code",
   "execution_count": 9,
   "id": "fb0e1728",
   "metadata": {},
   "outputs": [
    {
     "name": "stdout",
     "output_type": "stream",
     "text": [
      "[[2 4 6]\n",
      " [1 3 5]]\n"
     ]
    }
   ],
   "source": [
    "arr_1 = np.array([[2,4,6],[1,3,5]])\n",
    "print(arr_1)"
   ]
  },
  {
   "cell_type": "code",
   "execution_count": 59,
   "id": "497fba22",
   "metadata": {},
   "outputs": [
    {
     "data": {
      "text/plain": [
       "array([ 1,  2,  3,  4,  5,  6,  7,  8,  9, 10])"
      ]
     },
     "execution_count": 59,
     "metadata": {},
     "output_type": "execute_result"
    }
   ],
   "source": [
    "ar = np.arange(1,11)\n",
    "ar"
   ]
  },
  {
   "cell_type": "code",
   "execution_count": 60,
   "id": "8a047eb0",
   "metadata": {},
   "outputs": [
    {
     "data": {
      "text/plain": [
       "array([[ 1,  2,  3,  4,  5],\n",
       "       [ 6,  7,  8,  9, 10]])"
      ]
     },
     "execution_count": 60,
     "metadata": {},
     "output_type": "execute_result"
    }
   ],
   "source": [
    "ar0 = ar.reshape(2,5)\n",
    "ar0"
   ]
  },
  {
   "cell_type": "code",
   "execution_count": null,
   "id": "7c64487d",
   "metadata": {},
   "outputs": [],
   "source": []
  },
  {
   "cell_type": "markdown",
   "id": "499b3829",
   "metadata": {},
   "source": [
    "## Reshaping an array"
   ]
  },
  {
   "cell_type": "code",
   "execution_count": 10,
   "id": "166e6074",
   "metadata": {},
   "outputs": [
    {
     "data": {
      "text/plain": [
       "array([[ 0,  1,  2,  3,  4,  5,  6,  7,  8,  9],\n",
       "       [10, 11, 12, 13, 14, 15, 16, 17, 18, 19],\n",
       "       [20, 21, 22, 23, 24, 25, 26, 27, 28, 29],\n",
       "       [30, 31, 32, 33, 34, 35, 36, 37, 38, 39],\n",
       "       [40, 41, 42, 43, 44, 45, 46, 47, 48, 49],\n",
       "       [50, 51, 52, 53, 54, 55, 56, 57, 58, 59],\n",
       "       [60, 61, 62, 63, 64, 65, 66, 67, 68, 69],\n",
       "       [70, 71, 72, 73, 74, 75, 76, 77, 78, 79],\n",
       "       [80, 81, 82, 83, 84, 85, 86, 87, 88, 89],\n",
       "       [90, 91, 92, 93, 94, 95, 96, 97, 98, 99]])"
      ]
     },
     "execution_count": 10,
     "metadata": {},
     "output_type": "execute_result"
    }
   ],
   "source": [
    "arr11 = np.arange(100).reshape(10,10)\n",
    "arr11"
   ]
  },
  {
   "cell_type": "code",
   "execution_count": 18,
   "id": "588778b2",
   "metadata": {},
   "outputs": [
    {
     "data": {
      "text/plain": [
       "array([[ 0,  1,  2,  3,  4,  5,  6,  7,  8,  9],\n",
       "       [10, 11, 12, 13, 14, 15, 16, 17, 18, 19],\n",
       "       [20, 21, 22, 23, 24, 25, 26, 27, 28, 29],\n",
       "       [30, 31, 32, 33, 34, 35, 36, 37, 38, 39],\n",
       "       [40, 41, 42, 43, 44, 45, 46, 47, 48, 49],\n",
       "       [50, 51, 52, 53, 54, 55, 56, 57, 58, 59],\n",
       "       [60, 61, 62, 63, 64, 65, 66, 67, 68, 69],\n",
       "       [70, 71, 72, 73, 74, 75, 76, 77, 78, 79],\n",
       "       [80, 81, 82, 83, 84, 85, 86, 87, 88, 89],\n",
       "       [90, 91, 92, 93, 94, 95, 96, 97, 98, 99]])"
      ]
     },
     "execution_count": 18,
     "metadata": {},
     "output_type": "execute_result"
    }
   ],
   "source": [
    "arr11 = np.arange(100).reshape(10,-5)\n",
    "arr11"
   ]
  },
  {
   "cell_type": "code",
   "execution_count": 19,
   "id": "0c5b7c9f",
   "metadata": {},
   "outputs": [
    {
     "data": {
      "text/plain": [
       "array(['AP', 'MP', 'UP', 'KA', 'TN', 'GU', 'JK', 'HP', 'WB', 'MH', 'RJ',\n",
       "       'KL'], dtype='<U2')"
      ]
     },
     "execution_count": 19,
     "metadata": {},
     "output_type": "execute_result"
    }
   ],
   "source": [
    "ind_state = np.array(['AP','MP','UP','KA','TN','GU','JK','HP','WB','MH','RJ','KL'])\n",
    "ind_state"
   ]
  },
  {
   "cell_type": "code",
   "execution_count": 20,
   "id": "6f536874",
   "metadata": {},
   "outputs": [
    {
     "data": {
      "text/plain": [
       "array([['AP', 'MP', 'UP'],\n",
       "       ['KA', 'TN', 'GU'],\n",
       "       ['JK', 'HP', 'WB'],\n",
       "       ['MH', 'RJ', 'KL']], dtype='<U2')"
      ]
     },
     "execution_count": 20,
     "metadata": {},
     "output_type": "execute_result"
    }
   ],
   "source": [
    "ind_state.reshape(4,-1)"
   ]
  },
  {
   "cell_type": "markdown",
   "id": "e528918d",
   "metadata": {},
   "source": [
    "## Transpose\n",
    "\n"
   ]
  },
  {
   "cell_type": "code",
   "execution_count": 22,
   "id": "b5ff8289",
   "metadata": {},
   "outputs": [
    {
     "data": {
      "text/plain": [
       "array([['AP', 'KA', 'JK', 'MH'],\n",
       "       ['MP', 'TN', 'HP', 'RJ'],\n",
       "       ['UP', 'GU', 'WB', 'KL']], dtype='<U2')"
      ]
     },
     "execution_count": 22,
     "metadata": {},
     "output_type": "execute_result"
    }
   ],
   "source": [
    "# Transpose of matrix - rows and columns are interchanged\n",
    "ind_state.reshape(4,-1).T\n"
   ]
  },
  {
   "cell_type": "markdown",
   "id": "3906cf55",
   "metadata": {},
   "source": [
    "### Row  Measure and Column Measure"
   ]
  },
  {
   "cell_type": "code",
   "execution_count": 23,
   "id": "d3104049",
   "metadata": {},
   "outputs": [
    {
     "data": {
      "text/plain": [
       "array([['AP', 'MP', 'UP'],\n",
       "       ['KA', 'TN', 'GU'],\n",
       "       ['JK', 'HP', 'WB'],\n",
       "       ['MH', 'RJ', 'KL']], dtype='<U2')"
      ]
     },
     "execution_count": 23,
     "metadata": {},
     "output_type": "execute_result"
    }
   ],
   "source": [
    "# row measure Format\n",
    "\n",
    "np.reshape(ind_state,(4,-1),order = 'C')"
   ]
  },
  {
   "cell_type": "code",
   "execution_count": 24,
   "id": "050b01d2",
   "metadata": {},
   "outputs": [
    {
     "data": {
      "text/plain": [
       "array([['AP', 'TN', 'WB'],\n",
       "       ['MP', 'GU', 'MH'],\n",
       "       ['UP', 'JK', 'RJ'],\n",
       "       ['KA', 'HP', 'KL']], dtype='<U2')"
      ]
     },
     "execution_count": 24,
     "metadata": {},
     "output_type": "execute_result"
    }
   ],
   "source": [
    "#  column measure format\n",
    "np.reshape(ind_state,(4,-1),order = 'F')"
   ]
  },
  {
   "cell_type": "markdown",
   "id": "8e3acbe3",
   "metadata": {},
   "source": [
    "## Basic opearation on  array"
   ]
  },
  {
   "cell_type": "code",
   "execution_count": 27,
   "id": "4e1b607b",
   "metadata": {},
   "outputs": [
    {
     "data": {
      "text/plain": [
       "array([ True,  True, False, False])"
      ]
     },
     "execution_count": 27,
     "metadata": {},
     "output_type": "execute_result"
    }
   ],
   "source": [
    "arr1 = np.array([10,20,30,40])\n",
    "# Adding a scalar quantity into an array\n",
    "\n",
    "arr1+2\n",
    "\n",
    "#Subtracting a scalar quantity from elements in an array\n",
    "\n",
    "arr1-4\n",
    "\n",
    "# Multiply\n",
    "arr1 *5 \n",
    "\n",
    "# Diving\n",
    "arr1 /2\n",
    "#raising power\n",
    "arr1**3\n",
    "\n",
    "#comparision operator - returns a boolean value\n",
    "arr1<30"
   ]
  },
  {
   "cell_type": "code",
   "execution_count": 30,
   "id": "67793803",
   "metadata": {},
   "outputs": [
    {
     "data": {
      "text/plain": [
       "array([[10, 11],\n",
       "       [12, 12]])"
      ]
     },
     "execution_count": 30,
     "metadata": {},
     "output_type": "execute_result"
    }
   ],
   "source": [
    "ar1 = np.array([10,11,12,12]).reshape(2,2)\n",
    "ar1"
   ]
  },
  {
   "cell_type": "code",
   "execution_count": 32,
   "id": "c01bd1d2",
   "metadata": {},
   "outputs": [
    {
     "data": {
      "text/plain": [
       "array([[20, 21],\n",
       "       [22, 23]])"
      ]
     },
     "execution_count": 32,
     "metadata": {},
     "output_type": "execute_result"
    }
   ],
   "source": [
    "ar2 = np.array([20,21,22,23]).reshape(2,2)\n",
    "ar2"
   ]
  },
  {
   "cell_type": "code",
   "execution_count": 33,
   "id": "b256942b",
   "metadata": {},
   "outputs": [
    {
     "data": {
      "text/plain": [
       "array([[442, 463],\n",
       "       [504, 528]])"
      ]
     },
     "execution_count": 33,
     "metadata": {},
     "output_type": "execute_result"
    }
   ],
   "source": [
    "# dot product\n",
    "np.dot(ar1,ar2)"
   ]
  },
  {
   "cell_type": "code",
   "execution_count": 34,
   "id": "21434b08",
   "metadata": {},
   "outputs": [
    {
     "data": {
      "text/plain": [
       "array([[442, 463],\n",
       "       [504, 528]])"
      ]
     },
     "execution_count": 34,
     "metadata": {},
     "output_type": "execute_result"
    }
   ],
   "source": [
    "# otherway of writing dot product\n",
    "ar1.dot(ar2)"
   ]
  },
  {
   "cell_type": "code",
   "execution_count": 36,
   "id": "6708d0a6",
   "metadata": {},
   "outputs": [
    {
     "data": {
      "text/plain": [
       "array([[200, 231],\n",
       "       [264, 276]])"
      ]
     },
     "execution_count": 36,
     "metadata": {},
     "output_type": "execute_result"
    }
   ],
   "source": [
    "ary = ar1*ar2\n",
    "ary"
   ]
  },
  {
   "cell_type": "code",
   "execution_count": 41,
   "id": "8c3f46f1",
   "metadata": {},
   "outputs": [
    {
     "data": {
      "text/plain": [
       "array([[50, 53],\n",
       "       [56, 58]])"
      ]
     },
     "execution_count": 41,
     "metadata": {},
     "output_type": "execute_result"
    }
   ],
   "source": [
    "ar1 += ar2\n",
    "ar1"
   ]
  },
  {
   "cell_type": "markdown",
   "id": "2fd3b15f",
   "metadata": {},
   "source": [
    "## Unary operations on array"
   ]
  },
  {
   "cell_type": "code",
   "execution_count": 43,
   "id": "4de4a171",
   "metadata": {},
   "outputs": [
    {
     "name": "stdout",
     "output_type": "stream",
     "text": [
      "58\n",
      "50\n"
     ]
    },
    {
     "data": {
      "text/plain": [
       "217"
      ]
     },
     "execution_count": 43,
     "metadata": {},
     "output_type": "execute_result"
    }
   ],
   "source": [
    "# Aggregate functions - sum,min,max\n",
    "\n",
    "print(np.max(ar1))\n",
    "print(np.min(ar1))\n",
    "np.sum(ar1)"
   ]
  },
  {
   "cell_type": "code",
   "execution_count": 45,
   "id": "cc74d71b",
   "metadata": {},
   "outputs": [
    {
     "data": {
      "text/plain": [
       "array([[25, 26, 27, 28, 29],\n",
       "       [30, 31, 32, 33, 34],\n",
       "       [35, 36, 37, 38, 39],\n",
       "       [40, 41, 42, 43, 44],\n",
       "       [45, 46, 47, 48, 49]])"
      ]
     },
     "execution_count": 45,
     "metadata": {},
     "output_type": "execute_result"
    }
   ],
   "source": [
    "arr3 = np.arange(25,50).reshape(5,-1)\n",
    "arr3"
   ]
  },
  {
   "cell_type": "code",
   "execution_count": 49,
   "id": "65963975",
   "metadata": {},
   "outputs": [
    {
     "name": "stdout",
     "output_type": "stream",
     "text": [
      "row sum [135 160 185 210 235]\n",
      "column sum [175 180 185 190 195]\n"
     ]
    }
   ],
   "source": [
    "print('row sum',np.sum(arr3, axis = 1))  # row sum \n",
    "print('column sum',np.sum(arr3, axis  = 0))         # column sum"
   ]
  },
  {
   "cell_type": "code",
   "execution_count": 52,
   "id": "4b1eb229",
   "metadata": {},
   "outputs": [
    {
     "name": "stdout",
     "output_type": "stream",
     "text": [
      "row max [29 34 39 44 49]\n",
      "column max [45 46 47 48 49]\n"
     ]
    }
   ],
   "source": [
    "print('row max',np.max(arr3, axis = 1))  # row max \n",
    "print('column max',np.max(arr3, axis  = 0))         # column max"
   ]
  },
  {
   "cell_type": "code",
   "execution_count": 62,
   "id": "c92f3b0d",
   "metadata": {},
   "outputs": [],
   "source": [
    "# print(dir(np))"
   ]
  },
  {
   "cell_type": "code",
   "execution_count": 63,
   "id": "26283233",
   "metadata": {},
   "outputs": [
    {
     "data": {
      "text/plain": [
       "array([[ 625,  676,  729,  784,  841],\n",
       "       [ 900,  961, 1024, 1089, 1156],\n",
       "       [1225, 1296, 1369, 1444, 1521],\n",
       "       [1600, 1681, 1764, 1849, 1936],\n",
       "       [2025, 2116, 2209, 2304, 2401]])"
      ]
     },
     "execution_count": 63,
     "metadata": {},
     "output_type": "execute_result"
    }
   ],
   "source": [
    "np.square(arr3)"
   ]
  },
  {
   "cell_type": "code",
   "execution_count": null,
   "id": "3900e20d",
   "metadata": {},
   "outputs": [],
   "source": [
    "# Bitwise function in Numpy - bitwise_and,bitwise_or,bitwise_not, bitwise_xor, bitwise_repr()"
   ]
  },
  {
   "cell_type": "code",
   "execution_count": 64,
   "id": "bd7d5e24",
   "metadata": {},
   "outputs": [
    {
     "data": {
      "text/plain": [
       "array([ 0, 30, 40, 60, 90])"
      ]
     },
     "execution_count": 64,
     "metadata": {},
     "output_type": "execute_result"
    }
   ],
   "source": [
    "arr11 = np.array([0,30,40,60,90])\n",
    "arr11"
   ]
  },
  {
   "cell_type": "code",
   "execution_count": 66,
   "id": "85f4ee90",
   "metadata": {},
   "outputs": [
    {
     "name": "stdout",
     "output_type": "stream",
     "text": [
      "[[0 1]\n",
      " [4 5]]\n"
     ]
    }
   ],
   "source": [
    "print(np.bitwise_and(np.array([[10,11],[12,13]]),np.array([[20,21],[22,23]])))"
   ]
  },
  {
   "cell_type": "code",
   "execution_count": 80,
   "id": "d86c8a73",
   "metadata": {},
   "outputs": [
    {
     "data": {
      "text/plain": [
       "1"
      ]
     },
     "execution_count": 80,
     "metadata": {},
     "output_type": "execute_result"
    }
   ],
   "source": [
    "11 & 21"
   ]
  },
  {
   "cell_type": "code",
   "execution_count": 68,
   "id": "f384e579",
   "metadata": {},
   "outputs": [
    {
     "name": "stdout",
     "output_type": "stream",
     "text": [
      "[[30 30]\n",
      " [26 26]]\n"
     ]
    }
   ],
   "source": [
    "print(np.bitwise_xor(np.array([[10,11],[12,13]]),np.array([[20,21],[22,23]])))"
   ]
  },
  {
   "cell_type": "code",
   "execution_count": 96,
   "id": "c6bd81fd",
   "metadata": {},
   "outputs": [
    {
     "data": {
      "text/plain": [
       "881"
      ]
     },
     "execution_count": 96,
     "metadata": {},
     "output_type": "execute_result"
    }
   ],
   "source": [
    "int(bin(11)[2:]) & int(bin(21)[2:])"
   ]
  },
  {
   "cell_type": "code",
   "execution_count": 86,
   "id": "f447f87a",
   "metadata": {},
   "outputs": [
    {
     "data": {
      "text/plain": [
       "'0b10100'"
      ]
     },
     "execution_count": 86,
     "metadata": {},
     "output_type": "execute_result"
    }
   ],
   "source": [
    "bin(20)"
   ]
  },
  {
   "cell_type": "code",
   "execution_count": 87,
   "id": "c885c5c5",
   "metadata": {},
   "outputs": [
    {
     "data": {
      "text/plain": [
       "'0b1010'"
      ]
     },
     "execution_count": 87,
     "metadata": {},
     "output_type": "execute_result"
    }
   ],
   "source": [
    "bin(10)"
   ]
  },
  {
   "cell_type": "markdown",
   "id": "174fda80",
   "metadata": {},
   "source": [
    "## Array indexing and slicing"
   ]
  },
  {
   "cell_type": "code",
   "execution_count": 98,
   "id": "b4b7efc9",
   "metadata": {},
   "outputs": [
    {
     "data": {
      "text/plain": [
       "array([[25, 26, 27, 28, 29],\n",
       "       [30, 31, 32, 33, 34],\n",
       "       [35, 36, 37, 38, 39],\n",
       "       [40, 41, 42, 43, 44],\n",
       "       [45, 46, 47, 48, 49]])"
      ]
     },
     "execution_count": 98,
     "metadata": {},
     "output_type": "execute_result"
    }
   ],
   "source": [
    "arr12 = np.arange(25,50).reshape(5,5)\n",
    "arr12"
   ]
  },
  {
   "cell_type": "code",
   "execution_count": 100,
   "id": "4440e3b2",
   "metadata": {},
   "outputs": [
    {
     "name": "stdout",
     "output_type": "stream",
     "text": [
      "[[25 26 27 28 29]\n",
      " [30 31 32 33 34]\n",
      " [35 36 37 38 39]\n",
      " [40 41 42 43 44]\n",
      " [45 46 47 48 49]]\n"
     ]
    }
   ],
   "source": [
    "print(arr12[:,:])"
   ]
  },
  {
   "cell_type": "code",
   "execution_count": 102,
   "id": "d614ac95",
   "metadata": {},
   "outputs": [
    {
     "name": "stdout",
     "output_type": "stream",
     "text": [
      "33\n",
      "\n",
      "33\n"
     ]
    }
   ],
   "source": [
    "print(arr12[1][3])\n",
    "print()\n",
    "print(arr12[1,3])"
   ]
  },
  {
   "cell_type": "code",
   "execution_count": 103,
   "id": "83d43965",
   "metadata": {},
   "outputs": [
    {
     "name": "stdout",
     "output_type": "stream",
     "text": [
      "[[30 31 32 33 34]\n",
      " [35 36 37 38 39]]\n"
     ]
    }
   ],
   "source": [
    "print(arr12[1:3,:])"
   ]
  },
  {
   "cell_type": "code",
   "execution_count": 104,
   "id": "8fae6550",
   "metadata": {},
   "outputs": [
    {
     "name": "stdout",
     "output_type": "stream",
     "text": [
      "[[27]\n",
      " [32]\n",
      " [37]\n",
      " [42]\n",
      " [47]]\n"
     ]
    }
   ],
   "source": [
    "print(arr12[:,2:3])"
   ]
  },
  {
   "cell_type": "code",
   "execution_count": 123,
   "id": "19dd2b71",
   "metadata": {},
   "outputs": [
    {
     "name": "stdout",
     "output_type": "stream",
     "text": [
      "[[27 29]\n",
      " [37 39]\n",
      " [47 49]]\n"
     ]
    }
   ],
   "source": [
    "print(arr12[::2,2::2])"
   ]
  },
  {
   "cell_type": "code",
   "execution_count": 3,
   "id": "3592f520",
   "metadata": {},
   "outputs": [
    {
     "data": {
      "text/plain": [
       "array([25, 26, 27, 28, 29])"
      ]
     },
     "execution_count": 3,
     "metadata": {},
     "output_type": "execute_result"
    }
   ],
   "source": [
    "arr1 = np.arange(25,30)\n",
    "arr1"
   ]
  },
  {
   "cell_type": "code",
   "execution_count": 4,
   "id": "d8bb56bb",
   "metadata": {},
   "outputs": [
    {
     "data": {
      "text/plain": [
       "(26, 29, 27)"
      ]
     },
     "execution_count": 4,
     "metadata": {},
     "output_type": "execute_result"
    }
   ],
   "source": [
    "x= arr1[1],arr1[-1],arr1[2]\n",
    "x"
   ]
  },
  {
   "cell_type": "code",
   "execution_count": 5,
   "id": "ff8338db",
   "metadata": {},
   "outputs": [
    {
     "data": {
      "text/plain": [
       "array([29, 27, 25, 28])"
      ]
     },
     "execution_count": 5,
     "metadata": {},
     "output_type": "execute_result"
    }
   ],
   "source": [
    "s = np.array([-1,2,0,3])\n",
    "arr1[s]"
   ]
  },
  {
   "cell_type": "code",
   "execution_count": 7,
   "id": "b59531c0",
   "metadata": {},
   "outputs": [
    {
     "data": {
      "text/plain": [
       "array([[100, 101, 102, 103, 104],\n",
       "       [105, 106, 107, 108, 109],\n",
       "       [110, 111, 112, 113, 114],\n",
       "       [115, 116, 117, 118, 119],\n",
       "       [120, 121, 122, 123, 124],\n",
       "       [125, 126, 127, 128, 129]])"
      ]
     },
     "execution_count": 7,
     "metadata": {},
     "output_type": "execute_result"
    }
   ],
   "source": [
    "arr2 = np.arange(100,130).reshape(6,5)\n",
    "arr2"
   ]
  },
  {
   "cell_type": "code",
   "execution_count": 10,
   "id": "fed3ef8d",
   "metadata": {},
   "outputs": [
    {
     "data": {
      "text/plain": [
       "array([129, 112, 100, 118])"
      ]
     },
     "execution_count": 10,
     "metadata": {},
     "output_type": "execute_result"
    }
   ],
   "source": [
    "r = np.array([-1,2,0,3])\n",
    "c = np.array([-1,2,0,3])\n",
    "arr2[r,c]"
   ]
  },
  {
   "cell_type": "code",
   "execution_count": 11,
   "id": "fd3cd002",
   "metadata": {},
   "outputs": [
    {
     "data": {
      "text/plain": [
       "3435"
      ]
     },
     "execution_count": 11,
     "metadata": {},
     "output_type": "execute_result"
    }
   ],
   "source": [
    "np.sum(arr2)"
   ]
  },
  {
   "cell_type": "code",
   "execution_count": 12,
   "id": "39575d81",
   "metadata": {},
   "outputs": [
    {
     "data": {
      "text/plain": [
       "11"
      ]
     },
     "execution_count": 12,
     "metadata": {},
     "output_type": "execute_result"
    }
   ],
   "source": [
    "np.sum(arr2<111) ## returns a count value of numbers less than 111"
   ]
  },
  {
   "cell_type": "code",
   "execution_count": 13,
   "id": "ef88511f",
   "metadata": {},
   "outputs": [
    {
     "data": {
      "text/plain": [
       "5"
      ]
     },
     "execution_count": 13,
     "metadata": {},
     "output_type": "execute_result"
    }
   ],
   "source": [
    "np.count_nonzero(arr2<105)"
   ]
  },
  {
   "cell_type": "code",
   "execution_count": 14,
   "id": "b730237e",
   "metadata": {},
   "outputs": [
    {
     "data": {
      "text/plain": [
       "array([5, 0, 0, 0, 0, 0], dtype=int64)"
      ]
     },
     "execution_count": 14,
     "metadata": {},
     "output_type": "execute_result"
    }
   ],
   "source": [
    "np.count_nonzero(arr2<105,axis=1) ## columns comparision"
   ]
  },
  {
   "cell_type": "code",
   "execution_count": 15,
   "id": "83a9f1f3",
   "metadata": {},
   "outputs": [
    {
     "data": {
      "text/plain": [
       "array([1, 1, 1, 1, 1], dtype=int64)"
      ]
     },
     "execution_count": 15,
     "metadata": {},
     "output_type": "execute_result"
    }
   ],
   "source": [
    "np.count_nonzero(arr2<105,axis=0)  ## row comparision"
   ]
  },
  {
   "cell_type": "markdown",
   "id": "67b5d4ff",
   "metadata": {},
   "source": [
    "# Structured array\n"
   ]
  },
  {
   "cell_type": "code",
   "execution_count": 21,
   "id": "7c692b6d",
   "metadata": {},
   "outputs": [],
   "source": [
    "emp_name = ['Ross','Cath','Berth','John']\n",
    "emp_num = [1010,1011,1012,1013]\n",
    "emp_sal = [10000.00, 18000.00, 21000.00, 16000.00]"
   ]
  },
  {
   "cell_type": "code",
   "execution_count": 23,
   "id": "63bed9a0",
   "metadata": {
    "scrolled": true
   },
   "outputs": [
    {
     "data": {
      "text/plain": [
       "array([('', 0, 0.), ('', 0, 0.), ('', 0, 0.), ('', 0, 0.)],\n",
       "      dtype=[('name', '<U10'), ('id_num', '<i4'), ('sal', '<f8')])"
      ]
     },
     "execution_count": 23,
     "metadata": {},
     "output_type": "execute_result"
    }
   ],
   "source": [
    "emp_data = np.zeros(4,dtype = {'names':('name','id_num','sal'),'formats':('U10','i4','f8')})\n",
    "emp_data"
   ]
  },
  {
   "cell_type": "code",
   "execution_count": 27,
   "id": "4e44eba2",
   "metadata": {},
   "outputs": [
    {
     "data": {
      "text/plain": [
       "dtype([('name', '<U10'), ('id_num', '<i4'), ('sal', '<f8')])"
      ]
     },
     "execution_count": 27,
     "metadata": {},
     "output_type": "execute_result"
    }
   ],
   "source": [
    "emp_data.dtype"
   ]
  },
  {
   "cell_type": "code",
   "execution_count": 25,
   "id": "0a1334b0",
   "metadata": {},
   "outputs": [
    {
     "data": {
      "text/plain": [
       "array([('Ross', 1010, 10000.), ('Cath', 1011, 18000.),\n",
       "       ('Berth', 1012, 21000.), ('John', 1013, 16000.)],\n",
       "      dtype=[('name', '<U10'), ('id_num', '<i4'), ('sal', '<f8')])"
      ]
     },
     "execution_count": 25,
     "metadata": {},
     "output_type": "execute_result"
    }
   ],
   "source": [
    "emp_data ['name'] = emp_name\n",
    "emp_data['id_num'] = emp_num\n",
    "emp_data['sal'] = emp_sal\n",
    "emp_data"
   ]
  },
  {
   "cell_type": "code",
   "execution_count": 30,
   "id": "a9756389",
   "metadata": {},
   "outputs": [
    {
     "data": {
      "text/plain": [
       "array(['Ross', 'Cath', 'Berth', 'John'], dtype='<U10')"
      ]
     },
     "execution_count": 30,
     "metadata": {},
     "output_type": "execute_result"
    }
   ],
   "source": [
    "emp_data['name']"
   ]
  },
  {
   "cell_type": "markdown",
   "id": "736b97dc",
   "metadata": {},
   "source": [
    "# Array Broadcasting"
   ]
  },
  {
   "cell_type": "code",
   "execution_count": 4,
   "id": "9a091d84",
   "metadata": {},
   "outputs": [
    {
     "data": {
      "text/plain": [
       "array([0, 1, 2, 3, 4])"
      ]
     },
     "execution_count": 4,
     "metadata": {},
     "output_type": "execute_result"
    }
   ],
   "source": [
    "arr1 = np.arange(5)\n",
    "arr1"
   ]
  },
  {
   "cell_type": "code",
   "execution_count": 5,
   "id": "e31dac03",
   "metadata": {},
   "outputs": [
    {
     "data": {
      "text/plain": [
       "array([10, 11, 12, 13, 14])"
      ]
     },
     "execution_count": 5,
     "metadata": {},
     "output_type": "execute_result"
    }
   ],
   "source": [
    "a=10\n",
    "arr1+a"
   ]
  },
  {
   "cell_type": "code",
   "execution_count": 6,
   "id": "e374b5f2",
   "metadata": {},
   "outputs": [
    {
     "data": {
      "text/plain": [
       "array([[ 0,  1,  2,  3,  4,  5],\n",
       "       [ 6,  7,  8,  9, 10, 11]])"
      ]
     },
     "execution_count": 6,
     "metadata": {},
     "output_type": "execute_result"
    }
   ],
   "source": [
    "arr2 = np.arange(12).reshape(2,6)\n",
    "arr2"
   ]
  },
  {
   "cell_type": "code",
   "execution_count": 7,
   "id": "fd4292f9",
   "metadata": {},
   "outputs": [
    {
     "data": {
      "text/plain": [
       "array([[10, 11, 12, 13, 14, 15],\n",
       "       [16, 17, 18, 19, 20, 21]])"
      ]
     },
     "execution_count": 7,
     "metadata": {},
     "output_type": "execute_result"
    }
   ],
   "source": [
    "arr2+a"
   ]
  },
  {
   "cell_type": "code",
   "execution_count": 8,
   "id": "e56454bb",
   "metadata": {},
   "outputs": [
    {
     "data": {
      "text/plain": [
       "array([[ 0,  1,  2,  3,  4],\n",
       "       [ 5,  6,  7,  8,  9],\n",
       "       [10, 11, 12, 13, 14],\n",
       "       [15, 16, 17, 18, 19],\n",
       "       [20, 21, 22, 23, 24]])"
      ]
     },
     "execution_count": 8,
     "metadata": {},
     "output_type": "execute_result"
    }
   ],
   "source": [
    "arr3 = np.arange(25).reshape(5,5)\n",
    "arr3"
   ]
  },
  {
   "cell_type": "code",
   "execution_count": 9,
   "id": "b0fba3d4",
   "metadata": {},
   "outputs": [
    {
     "data": {
      "text/plain": [
       "array([[ 0,  2,  4,  6,  8],\n",
       "       [ 5,  7,  9, 11, 13],\n",
       "       [10, 12, 14, 16, 18],\n",
       "       [15, 17, 19, 21, 23],\n",
       "       [20, 22, 24, 26, 28]])"
      ]
     },
     "execution_count": 9,
     "metadata": {},
     "output_type": "execute_result"
    }
   ],
   "source": [
    "arr3+arr1"
   ]
  },
  {
   "cell_type": "code",
   "execution_count": 10,
   "id": "ecb8bc65",
   "metadata": {},
   "outputs": [
    {
     "data": {
      "text/plain": [
       "array([[ 0,  1,  4,  9, 16],\n",
       "       [ 0,  6, 14, 24, 36],\n",
       "       [ 0, 11, 24, 39, 56],\n",
       "       [ 0, 16, 34, 54, 76],\n",
       "       [ 0, 21, 44, 69, 96]])"
      ]
     },
     "execution_count": 10,
     "metadata": {},
     "output_type": "execute_result"
    }
   ],
   "source": [
    "arr3*arr1   # arr3 row element with arr1 all element"
   ]
  },
  {
   "cell_type": "code",
   "execution_count": 40,
   "id": "8cde5f1f",
   "metadata": {
    "scrolled": true
   },
   "outputs": [
    {
     "data": {
      "text/plain": [
       "array([0, 1, 2, 3, 4])"
      ]
     },
     "execution_count": 40,
     "metadata": {},
     "output_type": "execute_result"
    }
   ],
   "source": [
    "arr1"
   ]
  },
  {
   "cell_type": "markdown",
   "id": "6345aed4",
   "metadata": {},
   "source": [
    "## Iterating over an array"
   ]
  },
  {
   "cell_type": "code",
   "execution_count": 11,
   "id": "c4d10475",
   "metadata": {},
   "outputs": [
    {
     "data": {
      "text/plain": [
       "array([0, 1, 2, 3, 4])"
      ]
     },
     "execution_count": 11,
     "metadata": {},
     "output_type": "execute_result"
    }
   ],
   "source": [
    "arr1"
   ]
  },
  {
   "cell_type": "code",
   "execution_count": 42,
   "id": "e5657764",
   "metadata": {},
   "outputs": [
    {
     "name": "stdout",
     "output_type": "stream",
     "text": [
      "0\n",
      "1\n",
      "2\n",
      "3\n",
      "4\n"
     ]
    }
   ],
   "source": [
    "for i in arr1:\n",
    "    print(i)"
   ]
  },
  {
   "cell_type": "code",
   "execution_count": 12,
   "id": "0078124c",
   "metadata": {},
   "outputs": [
    {
     "data": {
      "text/plain": [
       "array([[ 0,  1,  2,  3,  4],\n",
       "       [ 5,  6,  7,  8,  9],\n",
       "       [10, 11, 12, 13, 14],\n",
       "       [15, 16, 17, 18, 19],\n",
       "       [20, 21, 22, 23, 24]])"
      ]
     },
     "execution_count": 12,
     "metadata": {},
     "output_type": "execute_result"
    }
   ],
   "source": [
    "arr3"
   ]
  },
  {
   "cell_type": "code",
   "execution_count": 13,
   "id": "25c38b61",
   "metadata": {},
   "outputs": [
    {
     "name": "stdout",
     "output_type": "stream",
     "text": [
      "0\n",
      "1\n",
      "2\n",
      "3\n",
      "4\n",
      "5\n",
      "6\n",
      "7\n",
      "8\n",
      "9\n",
      "10\n",
      "11\n",
      "12\n",
      "13\n",
      "14\n",
      "15\n",
      "16\n",
      "17\n",
      "18\n",
      "19\n",
      "20\n",
      "21\n",
      "22\n",
      "23\n",
      "24\n"
     ]
    }
   ],
   "source": [
    "for i in arr3:\n",
    "    for j in i:\n",
    "        print(j)"
   ]
  },
  {
   "cell_type": "code",
   "execution_count": 14,
   "id": "beac2190",
   "metadata": {
    "scrolled": true
   },
   "outputs": [
    {
     "data": {
      "text/plain": [
       "array([ 0,  1,  2,  3,  4,  5,  6,  7,  8,  9, 10, 11, 12, 13, 14, 15, 16,\n",
       "       17, 18, 19, 20, 21, 22, 23, 24])"
      ]
     },
     "execution_count": 14,
     "metadata": {},
     "output_type": "execute_result"
    }
   ],
   "source": [
    "arr3.flatten()"
   ]
  },
  {
   "cell_type": "code",
   "execution_count": 15,
   "id": "8a27b87e",
   "metadata": {},
   "outputs": [
    {
     "name": "stdout",
     "output_type": "stream",
     "text": [
      "0\n",
      "1\n",
      "2\n",
      "3\n",
      "4\n",
      "5\n",
      "6\n",
      "7\n",
      "8\n",
      "9\n",
      "10\n",
      "11\n",
      "12\n",
      "13\n",
      "14\n",
      "15\n",
      "16\n",
      "17\n",
      "18\n",
      "19\n",
      "20\n",
      "21\n",
      "22\n",
      "23\n",
      "24\n"
     ]
    }
   ],
   "source": [
    "for i in np.nditer(arr3,order = 'c'):\n",
    "    print(i)"
   ]
  },
  {
   "cell_type": "code",
   "execution_count": 47,
   "id": "8898ef67",
   "metadata": {},
   "outputs": [
    {
     "name": "stdout",
     "output_type": "stream",
     "text": [
      "0\n",
      "5\n",
      "10\n",
      "15\n",
      "20\n",
      "1\n",
      "6\n",
      "11\n",
      "16\n",
      "21\n",
      "2\n",
      "7\n",
      "12\n",
      "17\n",
      "22\n",
      "3\n",
      "8\n",
      "13\n",
      "18\n",
      "23\n",
      "4\n",
      "9\n",
      "14\n",
      "19\n",
      "24\n"
     ]
    }
   ],
   "source": [
    "for i in np.nditer(arr3,order = 'F'):\n",
    "    print(i)"
   ]
  },
  {
   "cell_type": "markdown",
   "id": "3a515f4f",
   "metadata": {},
   "source": [
    "## Splitting an array\n",
    "\n"
   ]
  },
  {
   "cell_type": "code",
   "execution_count": 16,
   "id": "1144096b",
   "metadata": {},
   "outputs": [
    {
     "data": {
      "text/plain": [
       "array([ 0,  1,  2,  3,  4,  5,  6,  7,  8,  9, 10, 11, 12, 13, 14, 15, 16,\n",
       "       17, 18, 19, 20, 21, 22, 23, 24])"
      ]
     },
     "execution_count": 16,
     "metadata": {},
     "output_type": "execute_result"
    }
   ],
   "source": [
    "arr1 = np.arange(25)\n",
    "arr1"
   ]
  },
  {
   "cell_type": "code",
   "execution_count": 17,
   "id": "2d820bfc",
   "metadata": {},
   "outputs": [
    {
     "data": {
      "text/plain": [
       "[array([0, 1, 2, 3, 4]),\n",
       " array([5, 6, 7, 8, 9]),\n",
       " array([10, 11, 12, 13, 14]),\n",
       " array([15, 16, 17, 18, 19]),\n",
       " array([20, 21, 22, 23, 24])]"
      ]
     },
     "execution_count": 17,
     "metadata": {},
     "output_type": "execute_result"
    }
   ],
   "source": [
    "# splitting arr1 into 5 equal sizes\n",
    "np.split(arr1,5)"
   ]
  },
  {
   "cell_type": "code",
   "execution_count": 18,
   "id": "fa2f80c7",
   "metadata": {},
   "outputs": [
    {
     "data": {
      "text/plain": [
       "[array([0, 1, 2]),\n",
       " array([3, 4]),\n",
       " array([5, 6, 7, 8]),\n",
       " array([ 9, 10]),\n",
       " array([11, 12, 13, 14, 15, 16, 17, 18, 19, 20, 21]),\n",
       " array([22, 23, 24])]"
      ]
     },
     "execution_count": 18,
     "metadata": {},
     "output_type": "execute_result"
    }
   ],
   "source": [
    "# split array at specified position\n",
    "\n",
    "np.split(arr1,[3,5,9,11,22])"
   ]
  },
  {
   "cell_type": "code",
   "execution_count": 19,
   "id": "daa95dfa",
   "metadata": {},
   "outputs": [
    {
     "data": {
      "text/plain": [
       "array([[ 0,  1,  2,  3,  4],\n",
       "       [ 5,  6,  7,  8,  9],\n",
       "       [10, 11, 12, 13, 14],\n",
       "       [15, 16, 17, 18, 19],\n",
       "       [20, 21, 22, 23, 24]])"
      ]
     },
     "execution_count": 19,
     "metadata": {},
     "output_type": "execute_result"
    }
   ],
   "source": [
    "arr2 = np.arange(25).reshape(5,5)\n",
    "arr2"
   ]
  },
  {
   "cell_type": "code",
   "execution_count": 55,
   "id": "5b522336",
   "metadata": {},
   "outputs": [
    {
     "data": {
      "text/plain": [
       "[array([[0, 1, 2, 3, 4],\n",
       "        [5, 6, 7, 8, 9]]),\n",
       " array([[10, 11, 12, 13, 14]]),\n",
       " array([[15, 16, 17, 18, 19],\n",
       "        [20, 21, 22, 23, 24]])]"
      ]
     },
     "execution_count": 55,
     "metadata": {},
     "output_type": "execute_result"
    }
   ],
   "source": [
    "np.split(arr2,[2,3])"
   ]
  },
  {
   "cell_type": "code",
   "execution_count": 20,
   "id": "633beb7a",
   "metadata": {},
   "outputs": [
    {
     "data": {
      "text/plain": [
       "[array([[ 0,  1],\n",
       "        [ 5,  6],\n",
       "        [10, 11],\n",
       "        [15, 16],\n",
       "        [20, 21]]),\n",
       " array([[ 2],\n",
       "        [ 7],\n",
       "        [12],\n",
       "        [17],\n",
       "        [22]]),\n",
       " array([[ 3,  4],\n",
       "        [ 8,  9],\n",
       "        [13, 14],\n",
       "        [18, 19],\n",
       "        [23, 24]])]"
      ]
     },
     "execution_count": 20,
     "metadata": {},
     "output_type": "execute_result"
    }
   ],
   "source": [
    "np.split(arr2,[2,3], axis=1)"
   ]
  },
  {
   "cell_type": "code",
   "execution_count": 21,
   "id": "13c039bf",
   "metadata": {},
   "outputs": [
    {
     "data": {
      "text/plain": [
       "[array([[ 0,  1],\n",
       "        [ 5,  6],\n",
       "        [10, 11],\n",
       "        [15, 16],\n",
       "        [20, 21]]),\n",
       " array([[ 2],\n",
       "        [ 7],\n",
       "        [12],\n",
       "        [17],\n",
       "        [22]]),\n",
       " array([[ 3,  4],\n",
       "        [ 8,  9],\n",
       "        [13, 14],\n",
       "        [18, 19],\n",
       "        [23, 24]])]"
      ]
     },
     "execution_count": 21,
     "metadata": {},
     "output_type": "execute_result"
    }
   ],
   "source": [
    "np.hsplit(arr2,[2,3])"
   ]
  },
  {
   "cell_type": "code",
   "execution_count": 22,
   "id": "d805818f",
   "metadata": {},
   "outputs": [
    {
     "data": {
      "text/plain": [
       "[array([[ 0,  1,  2,  3,  4],\n",
       "        [ 5,  6,  7,  8,  9],\n",
       "        [10, 11, 12, 13, 14]]),\n",
       " array([], shape=(0, 5), dtype=int32),\n",
       " array([[10, 11, 12, 13, 14],\n",
       "        [15, 16, 17, 18, 19],\n",
       "        [20, 21, 22, 23, 24]])]"
      ]
     },
     "execution_count": 22,
     "metadata": {},
     "output_type": "execute_result"
    }
   ],
   "source": [
    "np.vsplit(arr2,[3,2])"
   ]
  },
  {
   "cell_type": "markdown",
   "id": "9b9e0855",
   "metadata": {},
   "source": [
    "## View and Copy"
   ]
  },
  {
   "cell_type": "code",
   "execution_count": 23,
   "id": "d462ff87",
   "metadata": {},
   "outputs": [
    {
     "data": {
      "text/plain": [
       "array([ 0,  1,  2,  3,  4,  5,  6,  7,  8,  9, 10, 11, 12, 13, 14, 15, 16,\n",
       "       17, 18, 19, 20, 21, 22, 23, 24])"
      ]
     },
     "execution_count": 23,
     "metadata": {},
     "output_type": "execute_result"
    }
   ],
   "source": [
    "arr1"
   ]
  },
  {
   "cell_type": "code",
   "execution_count": 34,
   "id": "71d18583",
   "metadata": {},
   "outputs": [
    {
     "data": {
      "text/plain": [
       "array([ 0,  1,  2,  3,  4,  5,  6,  7,  8,  9, 10, 11, 12, 13, 14, 15, 16,\n",
       "       17, 18, 19, 20, 21, 22, 23, 24])"
      ]
     },
     "execution_count": 34,
     "metadata": {},
     "output_type": "execute_result"
    }
   ],
   "source": [
    "v1 = arr1.view()\n",
    "v1"
   ]
  },
  {
   "cell_type": "code",
   "execution_count": 35,
   "id": "2f572e02",
   "metadata": {},
   "outputs": [
    {
     "data": {
      "text/plain": [
       "array([111,   1,   2,   3,   4,   5,   6,   7,   8,   9,  10,  11,  12,\n",
       "        13,  14,  15,  16,  17,  18,  19,  20,  21,  22,  23,  24])"
      ]
     },
     "execution_count": 35,
     "metadata": {},
     "output_type": "execute_result"
    }
   ],
   "source": [
    "arr1[0] = 111\n",
    "v1"
   ]
  },
  {
   "cell_type": "code",
   "execution_count": 28,
   "id": "c662546f",
   "metadata": {},
   "outputs": [
    {
     "data": {
      "text/plain": [
       "array([0, 1, 2, 3, 4])"
      ]
     },
     "execution_count": 28,
     "metadata": {},
     "output_type": "execute_result"
    }
   ],
   "source": [
    "arr2 = np.arange(5)\n",
    "arr2"
   ]
  },
  {
   "cell_type": "code",
   "execution_count": 30,
   "id": "27003d8d",
   "metadata": {},
   "outputs": [
    {
     "data": {
      "text/plain": [
       "array([0, 1, 2, 3, 4])"
      ]
     },
     "execution_count": 30,
     "metadata": {},
     "output_type": "execute_result"
    }
   ],
   "source": [
    "a = arr2\n",
    "a"
   ]
  },
  {
   "cell_type": "code",
   "execution_count": 31,
   "id": "dda86ddc",
   "metadata": {},
   "outputs": [
    {
     "data": {
      "text/plain": [
       "array([0, 1, 2, 3, 4])"
      ]
     },
     "execution_count": 31,
     "metadata": {},
     "output_type": "execute_result"
    }
   ],
   "source": [
    "c = np.copy(arr2)\n",
    "c"
   ]
  },
  {
   "cell_type": "code",
   "execution_count": 32,
   "id": "78995b50",
   "metadata": {},
   "outputs": [],
   "source": [
    "arr2[0] = 111"
   ]
  },
  {
   "cell_type": "code",
   "execution_count": 33,
   "id": "0cbc7899",
   "metadata": {},
   "outputs": [
    {
     "name": "stdout",
     "output_type": "stream",
     "text": [
      "[111   1   2   3   4]\n",
      "[0 1 2 3 4]\n"
     ]
    }
   ],
   "source": [
    "print(a)\n",
    "print(c)"
   ]
  },
  {
   "cell_type": "markdown",
   "id": "a9ee51cc",
   "metadata": {},
   "source": [
    "## Stacking or concatenation\n",
    "\n",
    "##### shape of the arrays should be same for stacking"
   ]
  },
  {
   "cell_type": "code",
   "execution_count": 38,
   "id": "cbbbd5fd",
   "metadata": {},
   "outputs": [
    {
     "name": "stdout",
     "output_type": "stream",
     "text": [
      "[['A' 'B']\n",
      " ['C' 'D']]\n",
      "[['Z' 'Y']\n",
      " ['W' 'X']]\n"
     ]
    }
   ],
   "source": [
    "arr1 = np.array([['A','B'],['C','D']])\n",
    "arr2 = np.array([['Z','Y'],['W','X']])\n",
    "print(arr1)\n",
    "print(arr2)\n"
   ]
  },
  {
   "cell_type": "code",
   "execution_count": 40,
   "id": "59f98de5",
   "metadata": {},
   "outputs": [
    {
     "data": {
      "text/plain": [
       "array([['A', 'B'],\n",
       "       ['C', 'D'],\n",
       "       ['Z', 'Y'],\n",
       "       ['W', 'X']], dtype='<U1')"
      ]
     },
     "execution_count": 40,
     "metadata": {},
     "output_type": "execute_result"
    }
   ],
   "source": [
    "np.concatenate((arr1,arr2))"
   ]
  },
  {
   "cell_type": "code",
   "execution_count": 41,
   "id": "6339f9da",
   "metadata": {},
   "outputs": [
    {
     "data": {
      "text/plain": [
       "array([['A', 'B', 'Z', 'Y'],\n",
       "       ['C', 'D', 'W', 'X']], dtype='<U1')"
      ]
     },
     "execution_count": 41,
     "metadata": {},
     "output_type": "execute_result"
    }
   ],
   "source": [
    "np.concatenate((arr1,arr2),axis =1)"
   ]
  },
  {
   "cell_type": "code",
   "execution_count": null,
   "id": "f6998b92",
   "metadata": {},
   "outputs": [],
   "source": []
  },
  {
   "cell_type": "code",
   "execution_count": null,
   "id": "f77847f1",
   "metadata": {},
   "outputs": [],
   "source": []
  },
  {
   "cell_type": "code",
   "execution_count": null,
   "id": "d1b629c2",
   "metadata": {},
   "outputs": [],
   "source": []
  },
  {
   "cell_type": "code",
   "execution_count": null,
   "id": "3de36ded",
   "metadata": {},
   "outputs": [],
   "source": []
  },
  {
   "cell_type": "code",
   "execution_count": null,
   "id": "29560e5a",
   "metadata": {},
   "outputs": [],
   "source": []
  }
 ],
 "metadata": {
  "kernelspec": {
   "display_name": "Python 3 (ipykernel)",
   "language": "python",
   "name": "python3"
  },
  "language_info": {
   "codemirror_mode": {
    "name": "ipython",
    "version": 3
   },
   "file_extension": ".py",
   "mimetype": "text/x-python",
   "name": "python",
   "nbconvert_exporter": "python",
   "pygments_lexer": "ipython3",
   "version": "3.11.3"
  }
 },
 "nbformat": 4,
 "nbformat_minor": 5
}
