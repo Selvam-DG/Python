{
 "cells": [
  {
   "cell_type": "code",
   "execution_count": null,
   "id": "bbdfb814",
   "metadata": {},
   "outputs": [],
   "source": [
    "# Class and object\n",
    "# Variable\n",
    "#     Class variables\n",
    "#     Instance Variables\n",
    "    \n",
    "# Inhertance\n",
    "#     Types of Inheritance\n",
    "#     super()\n",
    "#     MRO\n",
    "# Polymorphism\n",
    "#     Duck typing\n",
    "#     overloading\n",
    "#     overriding\n",
    "# Encapsulation\n",
    "#     setter and getter\n",
    "#     property\n",
    "# Abstraction\n",
    "#     Abstract classes\n",
    "# Interface"
   ]
  },
  {
   "cell_type": "code",
   "execution_count": null,
   "id": "89f9245e",
   "metadata": {},
   "outputs": [],
   "source": [
    "# OOPsaim to implement the real world entities in programming\n",
    "# Binds the data and functions together for each object"
   ]
  },
  {
   "cell_type": "code",
   "execution_count": null,
   "id": "1ce4ba1b",
   "metadata": {},
   "outputs": [],
   "source": [
    "# Class - blueprints of a model which contain attributes and methods\n",
    "# Binding data and methods together for each object separately\n",
    "# It provides\n",
    "#     Attributes/Variable   -Properties\n",
    "#     Methods/functios - Behaviour\n"
   ]
  },
  {
   "cell_type": "code",
   "execution_count": 1,
   "id": "c58b16a8",
   "metadata": {},
   "outputs": [],
   "source": [
    "#Class is defined with class keyword with Class name in CamelCase\n",
    "\n",
    "class ClassName:\n",
    "    pass"
   ]
  },
  {
   "cell_type": "code",
   "execution_count": 2,
   "id": "6084f9f0",
   "metadata": {},
   "outputs": [],
   "source": [
    "class Human:\n",
    "    pass"
   ]
  },
  {
   "cell_type": "code",
   "execution_count": 3,
   "id": "f0fdded2",
   "metadata": {},
   "outputs": [],
   "source": [
    "human1 = Human()"
   ]
  },
  {
   "cell_type": "code",
   "execution_count": 4,
   "id": "52f89d7d",
   "metadata": {},
   "outputs": [
    {
     "name": "stdout",
     "output_type": "stream",
     "text": [
      "<class '__main__.Human'>\n"
     ]
    }
   ],
   "source": [
    "print(type(human1))"
   ]
  },
  {
   "cell_type": "code",
   "execution_count": 5,
   "id": "e625b414",
   "metadata": {},
   "outputs": [
    {
     "name": "stdout",
     "output_type": "stream",
     "text": [
      "1253060477904\n"
     ]
    }
   ],
   "source": [
    "print(id(human1))"
   ]
  },
  {
   "cell_type": "code",
   "execution_count": 7,
   "id": "a7c0a2ec",
   "metadata": {},
   "outputs": [
    {
     "name": "stdout",
     "output_type": "stream",
     "text": [
      "Help on class Human in module __main__:\n",
      "\n",
      "class Human(builtins.object)\n",
      " |  Data descriptors defined here:\n",
      " |  \n",
      " |  __dict__\n",
      " |      dictionary for instance variables (if defined)\n",
      " |  \n",
      " |  __weakref__\n",
      " |      list of weak references to the object (if defined)\n",
      "\n"
     ]
    }
   ],
   "source": [
    "help(Human)"
   ]
  },
  {
   "cell_type": "markdown",
   "id": "dea85766",
   "metadata": {},
   "source": [
    "# Class"
   ]
  },
  {
   "cell_type": "code",
   "execution_count": 8,
   "id": "fb5a59d1",
   "metadata": {},
   "outputs": [],
   "source": [
    "class Employee:\n",
    "    pass"
   ]
  },
  {
   "cell_type": "code",
   "execution_count": 9,
   "id": "dc34c92f",
   "metadata": {},
   "outputs": [
    {
     "data": {
      "text/plain": [
       "mappingproxy({'__module__': '__main__',\n",
       "              '__dict__': <attribute '__dict__' of 'Employee' objects>,\n",
       "              '__weakref__': <attribute '__weakref__' of 'Employee' objects>,\n",
       "              '__doc__': None})"
      ]
     },
     "execution_count": 9,
     "metadata": {},
     "output_type": "execute_result"
    }
   ],
   "source": [
    "Employee.__dict__"
   ]
  },
  {
   "cell_type": "code",
   "execution_count": 10,
   "id": "ba4555ad",
   "metadata": {},
   "outputs": [],
   "source": [
    "class Employee:\n",
    "    '''\n",
    "    This is an Employee class\n",
    "    '''"
   ]
  },
  {
   "cell_type": "code",
   "execution_count": 11,
   "id": "3b409484",
   "metadata": {},
   "outputs": [
    {
     "data": {
      "text/plain": [
       "mappingproxy({'__module__': '__main__',\n",
       "              '__doc__': '\\n    This is an Employee class\\n    ',\n",
       "              '__dict__': <attribute '__dict__' of 'Employee' objects>,\n",
       "              '__weakref__': <attribute '__weakref__' of 'Employee' objects>})"
      ]
     },
     "execution_count": 11,
     "metadata": {},
     "output_type": "execute_result"
    }
   ],
   "source": [
    "Employee.__dict__"
   ]
  },
  {
   "cell_type": "code",
   "execution_count": 13,
   "id": "ab2a2138",
   "metadata": {},
   "outputs": [
    {
     "name": "stdout",
     "output_type": "stream",
     "text": [
      "int([x]) -> integer\n",
      "int(x, base=10) -> integer\n",
      "\n",
      "Convert a number or string to an integer, or return 0 if no arguments\n",
      "are given.  If x is a number, return x.__int__().  For floating point\n",
      "numbers, this truncates towards zero.\n",
      "\n",
      "If x is not a number or if base is given, then x must be a string,\n",
      "bytes, or bytearray instance representing an integer literal in the\n",
      "given base.  The literal can be preceded by '+' or '-' and be surrounded\n",
      "by whitespace.  The base defaults to 10.  Valid bases are 0 and 2-36.\n",
      "Base 0 means to interpret the base from the string as an integer literal.\n",
      ">>> int('0b100', base=0)\n",
      "4\n"
     ]
    }
   ],
   "source": [
    "print(int.__doc__)"
   ]
  },
  {
   "cell_type": "code",
   "execution_count": 17,
   "id": "d3aea5b2",
   "metadata": {},
   "outputs": [],
   "source": [
    "emp1 = Employee()"
   ]
  },
  {
   "cell_type": "code",
   "execution_count": 18,
   "id": "9f9452b7",
   "metadata": {},
   "outputs": [],
   "source": [
    "# instance Attributes\n",
    "emp1.name = 'John'"
   ]
  },
  {
   "cell_type": "code",
   "execution_count": 19,
   "id": "0e1d369c",
   "metadata": {},
   "outputs": [
    {
     "data": {
      "text/plain": [
       "{'name': 'John'}"
      ]
     },
     "execution_count": 19,
     "metadata": {},
     "output_type": "execute_result"
    }
   ],
   "source": [
    "emp1.__dict__"
   ]
  },
  {
   "cell_type": "markdown",
   "id": "5caad1a9",
   "metadata": {},
   "source": [
    "# Instance Method"
   ]
  },
  {
   "cell_type": "code",
   "execution_count": null,
   "id": "888b9fbe",
   "metadata": {},
   "outputs": [],
   "source": [
    "# Instance Method - Method defined in a class and called using the object of that class\n"
   ]
  },
  {
   "cell_type": "code",
   "execution_count": 28,
   "id": "1f297499",
   "metadata": {},
   "outputs": [],
   "source": [
    "class Employee:\n",
    "    def Working():\n",
    "        hours = 8\n",
    "        return hours"
   ]
  },
  {
   "cell_type": "code",
   "execution_count": 29,
   "id": "5f7b919b",
   "metadata": {},
   "outputs": [],
   "source": [
    "emp1 = Employee()"
   ]
  },
  {
   "cell_type": "code",
   "execution_count": 30,
   "id": "d7781039",
   "metadata": {
    "scrolled": true
   },
   "outputs": [
    {
     "ename": "TypeError",
     "evalue": "Employee.Working() takes 0 positional arguments but 1 was given",
     "output_type": "error",
     "traceback": [
      "\u001b[1;31m---------------------------------------------------------------------------\u001b[0m",
      "\u001b[1;31mTypeError\u001b[0m                                 Traceback (most recent call last)",
      "Cell \u001b[1;32mIn[30], line 1\u001b[0m\n\u001b[1;32m----> 1\u001b[0m emp1\u001b[38;5;241m.\u001b[39mWorking()\n",
      "\u001b[1;31mTypeError\u001b[0m: Employee.Working() takes 0 positional arguments but 1 was given"
     ]
    }
   ],
   "source": [
    "emp1.Working()"
   ]
  },
  {
   "cell_type": "code",
   "execution_count": null,
   "id": "1d20962a",
   "metadata": {},
   "outputs": [],
   "source": [
    "# When an instance method is called, the object itself get passed as the first argument to that method\n",
    "# Employee.Working(emp1)"
   ]
  },
  {
   "cell_type": "code",
   "execution_count": 24,
   "id": "4d4f5f6d",
   "metadata": {},
   "outputs": [],
   "source": [
    "class Employee:\n",
    "    def Working(self):\n",
    "        hours = 8\n",
    "        return hours"
   ]
  },
  {
   "cell_type": "code",
   "execution_count": 25,
   "id": "ee19fd42",
   "metadata": {},
   "outputs": [],
   "source": [
    "emp1 = Employee()"
   ]
  },
  {
   "cell_type": "code",
   "execution_count": 26,
   "id": "1f345f7b",
   "metadata": {},
   "outputs": [
    {
     "data": {
      "text/plain": [
       "8"
      ]
     },
     "execution_count": 26,
     "metadata": {},
     "output_type": "execute_result"
    }
   ],
   "source": [
    "(emp1.Working())"
   ]
  },
  {
   "cell_type": "code",
   "execution_count": 27,
   "id": "0b6d6efc",
   "metadata": {},
   "outputs": [
    {
     "data": {
      "text/plain": [
       "8"
      ]
     },
     "execution_count": 27,
     "metadata": {},
     "output_type": "execute_result"
    }
   ],
   "source": [
    "Employee.Working(emp1)"
   ]
  },
  {
   "cell_type": "code",
   "execution_count": 32,
   "id": "f7548d82",
   "metadata": {},
   "outputs": [],
   "source": [
    "class Employee:\n",
    "    def Working(self):\n",
    "        hours = 8\n",
    "        return hours\n",
    "    def details(self,name,emp_id):\n",
    "        return f'Employee name is {name} and id is {emp_id} '\n",
    "    "
   ]
  },
  {
   "cell_type": "code",
   "execution_count": 33,
   "id": "6c30a722",
   "metadata": {},
   "outputs": [],
   "source": [
    "emp3 = Employee()"
   ]
  },
  {
   "cell_type": "code",
   "execution_count": 34,
   "id": "4e50f937",
   "metadata": {},
   "outputs": [
    {
     "data": {
      "text/plain": [
       "'Employee name is Das and id is 619654 '"
      ]
     },
     "execution_count": 34,
     "metadata": {},
     "output_type": "execute_result"
    }
   ],
   "source": [
    "emp3.details('Das','619654')"
   ]
  },
  {
   "cell_type": "markdown",
   "id": "c33b8e00",
   "metadata": {},
   "source": [
    "# Initializer"
   ]
  },
  {
   "cell_type": "code",
   "execution_count": null,
   "id": "da941b78",
   "metadata": {},
   "outputs": [],
   "source": [
    "# Initializer / Constructor\n",
    "# also an Instance Methods and used to initialize an object of a class\n",
    "# __init__()"
   ]
  },
  {
   "cell_type": "code",
   "execution_count": 46,
   "id": "76feea89",
   "metadata": {},
   "outputs": [],
   "source": [
    "class Employee:\n",
    "    def __init__(self, name, emp_id, salary=10000):\n",
    "        self.name = name\n",
    "        self.emp_id = emp_id\n",
    "        self.sal = salary\n",
    "        "
   ]
  },
  {
   "cell_type": "code",
   "execution_count": 47,
   "id": "84fcc453",
   "metadata": {},
   "outputs": [
    {
     "name": "stdout",
     "output_type": "stream",
     "text": [
      "<__main__.Employee object at 0x00000123C1A04690>\n",
      "Gana\n"
     ]
    },
    {
     "data": {
      "text/plain": [
       "{'name': 'Gana', 'emp_id': '620409', 'sal': 10000}"
      ]
     },
     "execution_count": 47,
     "metadata": {},
     "output_type": "execute_result"
    }
   ],
   "source": [
    "emp4 = Employee('Gana','620409')\n",
    "print(emp4)\n",
    "print(emp4.name)\n",
    "emp4.__dict__"
   ]
  },
  {
   "cell_type": "code",
   "execution_count": 48,
   "id": "9aa6652d",
   "metadata": {},
   "outputs": [],
   "source": [
    "emp5 = Employee('Yad','18342',200000)"
   ]
  },
  {
   "cell_type": "code",
   "execution_count": 49,
   "id": "194b476d",
   "metadata": {},
   "outputs": [
    {
     "data": {
      "text/plain": [
       "{'name': 'Yad', 'emp_id': '18342', 'sal': 200000}"
      ]
     },
     "execution_count": 49,
     "metadata": {},
     "output_type": "execute_result"
    }
   ],
   "source": [
    "emp5.__dict__"
   ]
  },
  {
   "cell_type": "markdown",
   "id": "fe41235d",
   "metadata": {},
   "source": [
    "# Instance variables\n",
    "\n",
    "#### Variables that are specific to an object (here emp4 and emp5 are instant object )\n",
    "##### There are different instance variables for each object"
   ]
  },
  {
   "cell_type": "code",
   "execution_count": 52,
   "id": "13d61fca",
   "metadata": {},
   "outputs": [
    {
     "name": "stdout",
     "output_type": "stream",
     "text": [
      "Gana\n",
      "620409\n",
      "10000\n",
      "\n",
      "Yad\n",
      "18342\n",
      "200000\n"
     ]
    }
   ],
   "source": [
    "print(emp4.name)\n",
    "print(emp4.emp_id)\n",
    "print(emp4.sal)\n",
    "print()\n",
    "print(emp5.name)\n",
    "print(emp5.emp_id)\n",
    "print(emp5.sal)"
   ]
  },
  {
   "cell_type": "markdown",
   "id": "5630e3bf",
   "metadata": {},
   "source": [
    "# Class Variables\n",
    "\n",
    "\n",
    "#### Variables defined at class level\n",
    "#### variables are bound to the class\n",
    "#### same copy of the class variables will be shared to each object"
   ]
  },
  {
   "cell_type": "code",
   "execution_count": 54,
   "id": "460861d8",
   "metadata": {},
   "outputs": [],
   "source": [
    "class Employee:\n",
    "    company = 'ABC'\n",
    "    departments = ['HR','Account','Finance','IT']\n",
    "    \n",
    "    def __init__(self, name, emp_id,email):\n",
    "        self.Name = name\n",
    "        self.Emp_id = emp_id\n",
    "        self.Emp_email = email\n"
   ]
  },
  {
   "cell_type": "code",
   "execution_count": 62,
   "id": "8695e515",
   "metadata": {},
   "outputs": [
    {
     "name": "stdout",
     "output_type": "stream",
     "text": [
      "<class '__main__.Employee'>\n",
      "{'Name': 'Jam', 'Emp_id': 10234, 'Emp_email': 'dasjam12@xyzmail.com'}\n"
     ]
    },
    {
     "data": {
      "text/plain": [
       "'Jam'"
      ]
     },
     "execution_count": 62,
     "metadata": {},
     "output_type": "execute_result"
    }
   ],
   "source": [
    "emp1 = Employee('Jam',10234,'dasjam12@xyzmail.com')\n",
    "print(type(emp1))\n",
    "# print(help(emp1))\n",
    "print(emp1.__dict__)\n",
    "emp1.Name"
   ]
  },
  {
   "cell_type": "markdown",
   "id": "c3cd86fb",
   "metadata": {},
   "source": [
    "# class Methods"
   ]
  },
  {
   "cell_type": "code",
   "execution_count": 64,
   "id": "c6920bbe",
   "metadata": {},
   "outputs": [],
   "source": [
    "class Welcome():\n",
    "    def greet():\n",
    "        return 'Welcome to the class'"
   ]
  },
  {
   "cell_type": "code",
   "execution_count": 65,
   "id": "ba615d27",
   "metadata": {},
   "outputs": [],
   "source": [
    "w1 = Welcome()"
   ]
  },
  {
   "cell_type": "code",
   "execution_count": 66,
   "id": "f5c5e05f",
   "metadata": {},
   "outputs": [
    {
     "ename": "TypeError",
     "evalue": "Welcome.greet() takes 0 positional arguments but 1 was given",
     "output_type": "error",
     "traceback": [
      "\u001b[1;31m---------------------------------------------------------------------------\u001b[0m",
      "\u001b[1;31mTypeError\u001b[0m                                 Traceback (most recent call last)",
      "Cell \u001b[1;32mIn[66], line 1\u001b[0m\n\u001b[1;32m----> 1\u001b[0m w1\u001b[38;5;241m.\u001b[39mgreet()\n",
      "\u001b[1;31mTypeError\u001b[0m: Welcome.greet() takes 0 positional arguments but 1 was given"
     ]
    }
   ],
   "source": [
    "w1.greet()"
   ]
  },
  {
   "cell_type": "markdown",
   "id": "f2d99da8",
   "metadata": {},
   "source": [
    "#####  By default all methods are instance methods\n",
    "##### # to create class method, use  @classmethod decorator"
   ]
  },
  {
   "cell_type": "code",
   "execution_count": 68,
   "id": "a1e539a2",
   "metadata": {},
   "outputs": [],
   "source": [
    "class Welcome():\n",
    "    \n",
    "    @classmethod\n",
    "    def greet():\n",
    "        return 'Welcome to the class'"
   ]
  },
  {
   "cell_type": "code",
   "execution_count": 69,
   "id": "e0854aa1",
   "metadata": {},
   "outputs": [
    {
     "ename": "TypeError",
     "evalue": "Welcome.greet() takes 0 positional arguments but 1 was given",
     "output_type": "error",
     "traceback": [
      "\u001b[1;31m---------------------------------------------------------------------------\u001b[0m",
      "\u001b[1;31mTypeError\u001b[0m                                 Traceback (most recent call last)",
      "Cell \u001b[1;32mIn[69], line 2\u001b[0m\n\u001b[0;32m      1\u001b[0m w1 \u001b[38;5;241m=\u001b[39m Welcome()\n\u001b[1;32m----> 2\u001b[0m w1\u001b[38;5;241m.\u001b[39mgreet()\n",
      "\u001b[1;31mTypeError\u001b[0m: Welcome.greet() takes 0 positional arguments but 1 was given"
     ]
    }
   ],
   "source": [
    "w1 = Welcome()\n",
    "w1.greet()"
   ]
  },
  {
   "cell_type": "code",
   "execution_count": 71,
   "id": "392707d7",
   "metadata": {},
   "outputs": [
    {
     "data": {
      "text/plain": [
       "'Welcome to the class <__main__.Welcome object at 0x00000123C1AA7ED0>'"
      ]
     },
     "execution_count": 71,
     "metadata": {},
     "output_type": "execute_result"
    }
   ],
   "source": [
    "class Welcome():\n",
    "    \n",
    "#     @classmethod\n",
    "    def greet(self):\n",
    "        return f'Welcome to the class {self}'\n",
    "w1 = Welcome()\n",
    "w1.greet()"
   ]
  },
  {
   "cell_type": "code",
   "execution_count": 72,
   "id": "8ac48a88",
   "metadata": {},
   "outputs": [
    {
     "data": {
      "text/plain": [
       "\"Welcome to the class <class '__main__.Welcome'>\""
      ]
     },
     "execution_count": 72,
     "metadata": {},
     "output_type": "execute_result"
    }
   ],
   "source": [
    "class Welcome():\n",
    "    \n",
    "    @classmethod\n",
    "    def greet(cls):\n",
    "        return f'Welcome to the class {cls}'\n",
    "w1 = Welcome()\n",
    "w1.greet()"
   ]
  },
  {
   "cell_type": "code",
   "execution_count": 73,
   "id": "63b6ffbf",
   "metadata": {},
   "outputs": [
    {
     "data": {
      "text/plain": [
       "'Welcome to the class '"
      ]
     },
     "execution_count": 73,
     "metadata": {},
     "output_type": "execute_result"
    }
   ],
   "source": [
    "class Welcome():\n",
    "    \n",
    "    @classmethod\n",
    "    def greet(cls):\n",
    "        return f'Welcome to the class '\n",
    "w1 = Welcome()\n",
    "w1.greet()"
   ]
  },
  {
   "cell_type": "code",
   "execution_count": 89,
   "id": "a84a626f",
   "metadata": {},
   "outputs": [],
   "source": [
    "class Employee:\n",
    "    company = 'ABC'                                    # class variable\n",
    "    departments = ['HR','Account','Finance','IT']\n",
    "    \n",
    "    def __init__(self, name, emp_id, email):    # initializer/Constructor\n",
    "        self.Name = name                        # instance varibale\n",
    "        self.Emp_id = emp_id\n",
    "        self.Emp_email = email\n",
    "        \n",
    "    def Working(self):                       # instance method - bound to instance/object\n",
    "        hours = 8\n",
    "        return hours\n",
    "    \n",
    "    def details(self):            # instance method\n",
    "        return f'Employee name is {self.Name} and id is {self.Emp_id} '\n",
    "    \n",
    "    @classmethod                               # class method - bound to class\n",
    "    def greet(cls):\n",
    "        return f'Welcome to the class '"
   ]
  },
  {
   "cell_type": "code",
   "execution_count": 76,
   "id": "20890bbf",
   "metadata": {},
   "outputs": [
    {
     "ename": "TypeError",
     "evalue": "Employee.__init__() missing 3 required positional arguments: 'name', 'emp_id', and 'email'",
     "output_type": "error",
     "traceback": [
      "\u001b[1;31m---------------------------------------------------------------------------\u001b[0m",
      "\u001b[1;31mTypeError\u001b[0m                                 Traceback (most recent call last)",
      "Cell \u001b[1;32mIn[76], line 1\u001b[0m\n\u001b[1;32m----> 1\u001b[0m e1 \u001b[38;5;241m=\u001b[39m Employee()\n",
      "\u001b[1;31mTypeError\u001b[0m: Employee.__init__() missing 3 required positional arguments: 'name', 'emp_id', and 'email'"
     ]
    }
   ],
   "source": [
    "e1 = Employee()"
   ]
  },
  {
   "cell_type": "code",
   "execution_count": 91,
   "id": "1654895d",
   "metadata": {},
   "outputs": [
    {
     "name": "stdout",
     "output_type": "stream",
     "text": [
      "Employee name is John and id is 624102 \n",
      "Welcome to the class \n"
     ]
    }
   ],
   "source": [
    "e1 = Employee('John','624102','john@abcmail.com')\n",
    "print(e1.details())\n",
    "print(e1.greet())"
   ]
  },
  {
   "cell_type": "markdown",
   "id": "ac1d624a",
   "metadata": {},
   "source": [
    "# Static Methods:\n",
    "\n",
    "#### not bound to anything (object or class)\n",
    "#### static method is created using @staticmethod decorators\n"
   ]
  },
  {
   "cell_type": "code",
   "execution_count": 92,
   "id": "099be6b6",
   "metadata": {},
   "outputs": [],
   "source": [
    "class Static:\n",
    "    \n",
    "    @staticmethod\n",
    "    def welcome():\n",
    "        return 'Welcome'"
   ]
  },
  {
   "cell_type": "code",
   "execution_count": 94,
   "id": "713e8c1d",
   "metadata": {},
   "outputs": [
    {
     "data": {
      "text/plain": [
       "'Welcome'"
      ]
     },
     "execution_count": 94,
     "metadata": {},
     "output_type": "execute_result"
    }
   ],
   "source": [
    "s1 = Static()\n",
    "s1.welcome()"
   ]
  },
  {
   "cell_type": "code",
   "execution_count": 97,
   "id": "16805fc0",
   "metadata": {},
   "outputs": [
    {
     "name": "stdout",
     "output_type": "stream",
     "text": [
      "<class 'function'>\n"
     ]
    }
   ],
   "source": [
    "print(type(s1.welcome))"
   ]
  },
  {
   "cell_type": "code",
   "execution_count": 100,
   "id": "88953f33",
   "metadata": {},
   "outputs": [
    {
     "name": "stdout",
     "output_type": "stream",
     "text": [
      "<class 'method'>\n"
     ]
    }
   ],
   "source": [
    "print(type(e1.greet))"
   ]
  },
  {
   "cell_type": "code",
   "execution_count": null,
   "id": "678a75c7",
   "metadata": {},
   "outputs": [],
   "source": [
    "# function bound to a class is method and the function which are not bounded to class then it is functions only\n",
    "# so @classmethod type, the function inside it is method\n",
    "# and @staticmethod type, the function that are inside the staticmethod, it is function only"
   ]
  },
  {
   "cell_type": "code",
   "execution_count": null,
   "id": "9a88868a",
   "metadata": {},
   "outputs": [],
   "source": []
  },
  {
   "cell_type": "markdown",
   "id": "d9c5a3ca",
   "metadata": {},
   "source": [
    "# Access Specifiers"
   ]
  },
  {
   "cell_type": "code",
   "execution_count": 1,
   "id": "4ee50e8a",
   "metadata": {},
   "outputs": [],
   "source": [
    "# it provides accessability of the variables\n",
    "# implementing data hiding\n"
   ]
  },
  {
   "cell_type": "code",
   "execution_count": null,
   "id": "f821e2b4",
   "metadata": {},
   "outputs": [],
   "source": [
    "# publi = accessable by everyone - inside the class and outside the class\n",
    "# private =  only accessable to that class where it is defined\n",
    "#protected =  accessable to the class and its child class - not accessabile outside the class"
   ]
  },
  {
   "cell_type": "code",
   "execution_count": 3,
   "id": "bc470063",
   "metadata": {},
   "outputs": [],
   "source": [
    "class Employee:\n",
    "    \n",
    "    company = 'ABC'       #public\n",
    "    _department = 'IT'    # protected(preceeding _)\n",
    "    __salary = 20000    #private (preceeding __)"
   ]
  },
  {
   "cell_type": "code",
   "execution_count": 5,
   "id": "84e8029c",
   "metadata": {},
   "outputs": [],
   "source": [
    "e1 = Employee()"
   ]
  },
  {
   "cell_type": "code",
   "execution_count": 7,
   "id": "d5007bdd",
   "metadata": {},
   "outputs": [
    {
     "data": {
      "text/plain": [
       "'ABC'"
      ]
     },
     "execution_count": 7,
     "metadata": {},
     "output_type": "execute_result"
    }
   ],
   "source": [
    "e1.company  #public "
   ]
  },
  {
   "cell_type": "code",
   "execution_count": 9,
   "id": "04fe015e",
   "metadata": {},
   "outputs": [
    {
     "data": {
      "text/plain": [
       "'IT'"
      ]
     },
     "execution_count": 9,
     "metadata": {},
     "output_type": "execute_result"
    }
   ],
   "source": [
    "e1._department  # In python, ther is no true protected access specifier"
   ]
  },
  {
   "cell_type": "code",
   "execution_count": 10,
   "id": "c57f6c82",
   "metadata": {},
   "outputs": [
    {
     "ename": "AttributeError",
     "evalue": "'Employee' object has no attribute '__salary'",
     "output_type": "error",
     "traceback": [
      "\u001b[1;31m---------------------------------------------------------------------------\u001b[0m",
      "\u001b[1;31mAttributeError\u001b[0m                            Traceback (most recent call last)",
      "Cell \u001b[1;32mIn[10], line 1\u001b[0m\n\u001b[1;32m----> 1\u001b[0m e1\u001b[38;5;241m.\u001b[39m__salary\n",
      "\u001b[1;31mAttributeError\u001b[0m: 'Employee' object has no attribute '__salary'"
     ]
    }
   ],
   "source": [
    "e1.__salary"
   ]
  },
  {
   "cell_type": "code",
   "execution_count": 11,
   "id": "9a106120",
   "metadata": {},
   "outputs": [
    {
     "data": {
      "text/plain": [
       "['_Employee__salary',\n",
       " '__class__',\n",
       " '__delattr__',\n",
       " '__dict__',\n",
       " '__dir__',\n",
       " '__doc__',\n",
       " '__eq__',\n",
       " '__format__',\n",
       " '__ge__',\n",
       " '__getattribute__',\n",
       " '__getstate__',\n",
       " '__gt__',\n",
       " '__hash__',\n",
       " '__init__',\n",
       " '__init_subclass__',\n",
       " '__le__',\n",
       " '__lt__',\n",
       " '__module__',\n",
       " '__ne__',\n",
       " '__new__',\n",
       " '__reduce__',\n",
       " '__reduce_ex__',\n",
       " '__repr__',\n",
       " '__setattr__',\n",
       " '__sizeof__',\n",
       " '__str__',\n",
       " '__subclasshook__',\n",
       " '__weakref__',\n",
       " '_department',\n",
       " 'company']"
      ]
     },
     "execution_count": 11,
     "metadata": {},
     "output_type": "execute_result"
    }
   ],
   "source": [
    "dir(e1)"
   ]
  },
  {
   "cell_type": "code",
   "execution_count": 12,
   "id": "6d62ebb7",
   "metadata": {},
   "outputs": [
    {
     "name": "stdout",
     "output_type": "stream",
     "text": [
      "20000\n"
     ]
    }
   ],
   "source": [
    "print(e1._Employee__salary)"
   ]
  },
  {
   "cell_type": "code",
   "execution_count": null,
   "id": "de160fa0",
   "metadata": {},
   "outputs": [],
   "source": [
    "# __var = _clas__var is called Name mangling"
   ]
  },
  {
   "cell_type": "code",
   "execution_count": null,
   "id": "03ddb902",
   "metadata": {},
   "outputs": [],
   "source": []
  },
  {
   "cell_type": "code",
   "execution_count": null,
   "id": "618677dd",
   "metadata": {},
   "outputs": [],
   "source": []
  },
  {
   "cell_type": "code",
   "execution_count": null,
   "id": "c273721f",
   "metadata": {},
   "outputs": [],
   "source": []
  },
  {
   "cell_type": "code",
   "execution_count": null,
   "id": "b25ce263",
   "metadata": {},
   "outputs": [],
   "source": []
  },
  {
   "cell_type": "code",
   "execution_count": null,
   "id": "0fc283a4",
   "metadata": {},
   "outputs": [],
   "source": []
  },
  {
   "cell_type": "code",
   "execution_count": null,
   "id": "a3fb7e87",
   "metadata": {},
   "outputs": [],
   "source": []
  },
  {
   "cell_type": "code",
   "execution_count": null,
   "id": "6515e673",
   "metadata": {},
   "outputs": [],
   "source": []
  }
 ],
 "metadata": {
  "kernelspec": {
   "display_name": "Python 3 (ipykernel)",
   "language": "python",
   "name": "python3"
  },
  "language_info": {
   "codemirror_mode": {
    "name": "ipython",
    "version": 3
   },
   "file_extension": ".py",
   "mimetype": "text/x-python",
   "name": "python",
   "nbconvert_exporter": "python",
   "pygments_lexer": "ipython3",
   "version": "3.11.3"
  }
 },
 "nbformat": 4,
 "nbformat_minor": 5
}
