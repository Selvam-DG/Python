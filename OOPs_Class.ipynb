{
 "cells": [
  {
   "cell_type": "markdown",
   "id": "d4dbd567",
   "metadata": {},
   "source": [
    "https://drive.google.com/drive/folders/1oSorCVytYnDWRGm0ALBnoNPtmCzGzUir?usp=drive_link"
   ]
  },
  {
   "cell_type": "code",
   "execution_count": null,
   "id": "bbdfb814",
   "metadata": {},
   "outputs": [],
   "source": [
    "# Class and object\n",
    "# Variable\n",
    "#     Class variables\n",
    "#     Instance Variables\n",
    "    \n",
    "# Inhertance\n",
    "#     Types of Inheritance\n",
    "#     super()\n",
    "#     MRO\n",
    "# Polymorphism\n",
    "#     Duck typing\n",
    "#     overloading\n",
    "#     overriding\n",
    "# Encapsulation\n",
    "#     setter and getter\n",
    "#     property\n",
    "# Abstraction\n",
    "#     Abstract classes\n",
    "# Interface"
   ]
  },
  {
   "cell_type": "code",
   "execution_count": null,
   "id": "89f9245e",
   "metadata": {},
   "outputs": [],
   "source": [
    "# OOPsaim to implement the real world entities in programming\n",
    "# Binds the data and functions together for each object"
   ]
  },
  {
   "cell_type": "code",
   "execution_count": null,
   "id": "1ce4ba1b",
   "metadata": {},
   "outputs": [],
   "source": [
    "# Class - blueprints of a model which contain attributes and methods\n",
    "# Binding data and methods together for each object separately\n",
    "# It provides\n",
    "#     Attributes/Variable   -Properties\n",
    "#     Methods/functios - Behaviour\n"
   ]
  },
  {
   "cell_type": "code",
   "execution_count": 1,
   "id": "c58b16a8",
   "metadata": {},
   "outputs": [],
   "source": [
    "#Class is defined with class keyword with Class name in CamelCase\n",
    "\n",
    "class ClassName:\n",
    "    pass"
   ]
  },
  {
   "cell_type": "code",
   "execution_count": 2,
   "id": "6084f9f0",
   "metadata": {},
   "outputs": [],
   "source": [
    "class Human:\n",
    "    pass"
   ]
  },
  {
   "cell_type": "code",
   "execution_count": 3,
   "id": "f0fdded2",
   "metadata": {},
   "outputs": [],
   "source": [
    "human1 = Human()"
   ]
  },
  {
   "cell_type": "code",
   "execution_count": 4,
   "id": "52f89d7d",
   "metadata": {},
   "outputs": [
    {
     "name": "stdout",
     "output_type": "stream",
     "text": [
      "<class '__main__.Human'>\n"
     ]
    }
   ],
   "source": [
    "print(type(human1))"
   ]
  },
  {
   "cell_type": "code",
   "execution_count": 5,
   "id": "e625b414",
   "metadata": {},
   "outputs": [
    {
     "name": "stdout",
     "output_type": "stream",
     "text": [
      "1253060477904\n"
     ]
    }
   ],
   "source": [
    "print(id(human1))"
   ]
  },
  {
   "cell_type": "code",
   "execution_count": 7,
   "id": "a7c0a2ec",
   "metadata": {},
   "outputs": [
    {
     "name": "stdout",
     "output_type": "stream",
     "text": [
      "Help on class Human in module __main__:\n",
      "\n",
      "class Human(builtins.object)\n",
      " |  Data descriptors defined here:\n",
      " |  \n",
      " |  __dict__\n",
      " |      dictionary for instance variables (if defined)\n",
      " |  \n",
      " |  __weakref__\n",
      " |      list of weak references to the object (if defined)\n",
      "\n"
     ]
    }
   ],
   "source": [
    "help(Human)"
   ]
  },
  {
   "cell_type": "markdown",
   "id": "dea85766",
   "metadata": {},
   "source": [
    "# Class"
   ]
  },
  {
   "cell_type": "code",
   "execution_count": 8,
   "id": "fb5a59d1",
   "metadata": {},
   "outputs": [],
   "source": [
    "class Employee:\n",
    "    pass"
   ]
  },
  {
   "cell_type": "code",
   "execution_count": 9,
   "id": "dc34c92f",
   "metadata": {},
   "outputs": [
    {
     "data": {
      "text/plain": [
       "mappingproxy({'__module__': '__main__',\n",
       "              '__dict__': <attribute '__dict__' of 'Employee' objects>,\n",
       "              '__weakref__': <attribute '__weakref__' of 'Employee' objects>,\n",
       "              '__doc__': None})"
      ]
     },
     "execution_count": 9,
     "metadata": {},
     "output_type": "execute_result"
    }
   ],
   "source": [
    "Employee.__dict__"
   ]
  },
  {
   "cell_type": "code",
   "execution_count": 10,
   "id": "ba4555ad",
   "metadata": {},
   "outputs": [],
   "source": [
    "class Employee:\n",
    "    '''\n",
    "    This is an Employee class\n",
    "    '''"
   ]
  },
  {
   "cell_type": "code",
   "execution_count": 11,
   "id": "3b409484",
   "metadata": {},
   "outputs": [
    {
     "data": {
      "text/plain": [
       "mappingproxy({'__module__': '__main__',\n",
       "              '__doc__': '\\n    This is an Employee class\\n    ',\n",
       "              '__dict__': <attribute '__dict__' of 'Employee' objects>,\n",
       "              '__weakref__': <attribute '__weakref__' of 'Employee' objects>})"
      ]
     },
     "execution_count": 11,
     "metadata": {},
     "output_type": "execute_result"
    }
   ],
   "source": [
    "Employee.__dict__"
   ]
  },
  {
   "cell_type": "code",
   "execution_count": 13,
   "id": "ab2a2138",
   "metadata": {},
   "outputs": [
    {
     "name": "stdout",
     "output_type": "stream",
     "text": [
      "int([x]) -> integer\n",
      "int(x, base=10) -> integer\n",
      "\n",
      "Convert a number or string to an integer, or return 0 if no arguments\n",
      "are given.  If x is a number, return x.__int__().  For floating point\n",
      "numbers, this truncates towards zero.\n",
      "\n",
      "If x is not a number or if base is given, then x must be a string,\n",
      "bytes, or bytearray instance representing an integer literal in the\n",
      "given base.  The literal can be preceded by '+' or '-' and be surrounded\n",
      "by whitespace.  The base defaults to 10.  Valid bases are 0 and 2-36.\n",
      "Base 0 means to interpret the base from the string as an integer literal.\n",
      ">>> int('0b100', base=0)\n",
      "4\n"
     ]
    }
   ],
   "source": [
    "print(int.__doc__)"
   ]
  },
  {
   "cell_type": "code",
   "execution_count": 17,
   "id": "d3aea5b2",
   "metadata": {},
   "outputs": [],
   "source": [
    "emp1 = Employee()"
   ]
  },
  {
   "cell_type": "code",
   "execution_count": 18,
   "id": "9f9452b7",
   "metadata": {},
   "outputs": [],
   "source": [
    "# instance Attributes\n",
    "emp1.name = 'John'"
   ]
  },
  {
   "cell_type": "code",
   "execution_count": 19,
   "id": "0e1d369c",
   "metadata": {},
   "outputs": [
    {
     "data": {
      "text/plain": [
       "{'name': 'John'}"
      ]
     },
     "execution_count": 19,
     "metadata": {},
     "output_type": "execute_result"
    }
   ],
   "source": [
    "emp1.__dict__"
   ]
  },
  {
   "cell_type": "markdown",
   "id": "5caad1a9",
   "metadata": {},
   "source": [
    "# Instance Method"
   ]
  },
  {
   "cell_type": "code",
   "execution_count": null,
   "id": "888b9fbe",
   "metadata": {},
   "outputs": [],
   "source": [
    "# Instance Method - Method defined in a class and called using the object of that class\n"
   ]
  },
  {
   "cell_type": "code",
   "execution_count": 28,
   "id": "1f297499",
   "metadata": {},
   "outputs": [],
   "source": [
    "class Employee:\n",
    "    def Working():\n",
    "        hours = 8\n",
    "        return hours"
   ]
  },
  {
   "cell_type": "code",
   "execution_count": 29,
   "id": "5f7b919b",
   "metadata": {},
   "outputs": [],
   "source": [
    "emp1 = Employee()"
   ]
  },
  {
   "cell_type": "code",
   "execution_count": 30,
   "id": "d7781039",
   "metadata": {
    "scrolled": true
   },
   "outputs": [
    {
     "ename": "TypeError",
     "evalue": "Employee.Working() takes 0 positional arguments but 1 was given",
     "output_type": "error",
     "traceback": [
      "\u001b[1;31m---------------------------------------------------------------------------\u001b[0m",
      "\u001b[1;31mTypeError\u001b[0m                                 Traceback (most recent call last)",
      "Cell \u001b[1;32mIn[30], line 1\u001b[0m\n\u001b[1;32m----> 1\u001b[0m emp1\u001b[38;5;241m.\u001b[39mWorking()\n",
      "\u001b[1;31mTypeError\u001b[0m: Employee.Working() takes 0 positional arguments but 1 was given"
     ]
    }
   ],
   "source": [
    "emp1.Working()"
   ]
  },
  {
   "cell_type": "code",
   "execution_count": null,
   "id": "1d20962a",
   "metadata": {},
   "outputs": [],
   "source": [
    "# When an instance method is called, the object itself get passed as the first argument to that method\n",
    "# Employee.Working(emp1)"
   ]
  },
  {
   "cell_type": "code",
   "execution_count": 24,
   "id": "4d4f5f6d",
   "metadata": {},
   "outputs": [],
   "source": [
    "class Employee:\n",
    "    def Working(self):\n",
    "        hours = 8\n",
    "        return hours"
   ]
  },
  {
   "cell_type": "code",
   "execution_count": 25,
   "id": "ee19fd42",
   "metadata": {},
   "outputs": [],
   "source": [
    "emp1 = Employee()"
   ]
  },
  {
   "cell_type": "code",
   "execution_count": 26,
   "id": "1f345f7b",
   "metadata": {},
   "outputs": [
    {
     "data": {
      "text/plain": [
       "8"
      ]
     },
     "execution_count": 26,
     "metadata": {},
     "output_type": "execute_result"
    }
   ],
   "source": [
    "(emp1.Working())"
   ]
  },
  {
   "cell_type": "code",
   "execution_count": 27,
   "id": "0b6d6efc",
   "metadata": {},
   "outputs": [
    {
     "data": {
      "text/plain": [
       "8"
      ]
     },
     "execution_count": 27,
     "metadata": {},
     "output_type": "execute_result"
    }
   ],
   "source": [
    "Employee.Working(emp1)"
   ]
  },
  {
   "cell_type": "code",
   "execution_count": 32,
   "id": "f7548d82",
   "metadata": {},
   "outputs": [],
   "source": [
    "class Employee:\n",
    "    def Working(self):\n",
    "        hours = 8\n",
    "        return hours\n",
    "    def details(self,name,emp_id):\n",
    "        return f'Employee name is {name} and id is {emp_id} '\n",
    "    "
   ]
  },
  {
   "cell_type": "code",
   "execution_count": 33,
   "id": "6c30a722",
   "metadata": {},
   "outputs": [],
   "source": [
    "emp3 = Employee()"
   ]
  },
  {
   "cell_type": "code",
   "execution_count": 34,
   "id": "4e50f937",
   "metadata": {},
   "outputs": [
    {
     "data": {
      "text/plain": [
       "'Employee name is Das and id is 619654 '"
      ]
     },
     "execution_count": 34,
     "metadata": {},
     "output_type": "execute_result"
    }
   ],
   "source": [
    "emp3.details('Das','619654')"
   ]
  },
  {
   "cell_type": "markdown",
   "id": "c33b8e00",
   "metadata": {},
   "source": [
    "# Initializer"
   ]
  },
  {
   "cell_type": "code",
   "execution_count": null,
   "id": "da941b78",
   "metadata": {},
   "outputs": [],
   "source": [
    "# Initializer / Constructor\n",
    "# also an Instance Methods and used to initialize an object of a class\n",
    "# __init__()"
   ]
  },
  {
   "cell_type": "code",
   "execution_count": 46,
   "id": "76feea89",
   "metadata": {},
   "outputs": [],
   "source": [
    "class Employee:\n",
    "    def __init__(self, name, emp_id, salary=10000):\n",
    "        self.name = name\n",
    "        self.emp_id = emp_id\n",
    "        self.sal = salary\n",
    "        "
   ]
  },
  {
   "cell_type": "code",
   "execution_count": 47,
   "id": "84fcc453",
   "metadata": {},
   "outputs": [
    {
     "name": "stdout",
     "output_type": "stream",
     "text": [
      "<__main__.Employee object at 0x00000123C1A04690>\n",
      "Gana\n"
     ]
    },
    {
     "data": {
      "text/plain": [
       "{'name': 'Gana', 'emp_id': '620409', 'sal': 10000}"
      ]
     },
     "execution_count": 47,
     "metadata": {},
     "output_type": "execute_result"
    }
   ],
   "source": [
    "emp4 = Employee('Gana','620409')\n",
    "print(emp4)\n",
    "print(emp4.name)\n",
    "emp4.__dict__"
   ]
  },
  {
   "cell_type": "code",
   "execution_count": 48,
   "id": "9aa6652d",
   "metadata": {},
   "outputs": [],
   "source": [
    "emp5 = Employee('Yad','18342',200000)"
   ]
  },
  {
   "cell_type": "code",
   "execution_count": 49,
   "id": "194b476d",
   "metadata": {},
   "outputs": [
    {
     "data": {
      "text/plain": [
       "{'name': 'Yad', 'emp_id': '18342', 'sal': 200000}"
      ]
     },
     "execution_count": 49,
     "metadata": {},
     "output_type": "execute_result"
    }
   ],
   "source": [
    "emp5.__dict__"
   ]
  },
  {
   "cell_type": "markdown",
   "id": "fe41235d",
   "metadata": {},
   "source": [
    "# Instance variables\n",
    "\n",
    "#### Variables that are specific to an object (here emp4 and emp5 are instant object )\n",
    "##### There are different instance variables for each object"
   ]
  },
  {
   "cell_type": "code",
   "execution_count": 52,
   "id": "13d61fca",
   "metadata": {},
   "outputs": [
    {
     "name": "stdout",
     "output_type": "stream",
     "text": [
      "Gana\n",
      "620409\n",
      "10000\n",
      "\n",
      "Yad\n",
      "18342\n",
      "200000\n"
     ]
    }
   ],
   "source": [
    "print(emp4.name)\n",
    "print(emp4.emp_id)\n",
    "print(emp4.sal)\n",
    "print()\n",
    "print(emp5.name)\n",
    "print(emp5.emp_id)\n",
    "print(emp5.sal)"
   ]
  },
  {
   "cell_type": "markdown",
   "id": "5630e3bf",
   "metadata": {},
   "source": [
    "# Class Variables\n",
    "\n",
    "\n",
    "#### Variables defined at class level\n",
    "#### variables are bound to the class\n",
    "#### same copy of the class variables will be shared to each object"
   ]
  },
  {
   "cell_type": "code",
   "execution_count": 54,
   "id": "460861d8",
   "metadata": {},
   "outputs": [],
   "source": [
    "class Employee:\n",
    "    company = 'ABC'\n",
    "    departments = ['HR','Account','Finance','IT']\n",
    "    \n",
    "    def __init__(self, name, emp_id,email):\n",
    "        self.Name = name\n",
    "        self.Emp_id = emp_id\n",
    "        self.Emp_email = email\n"
   ]
  },
  {
   "cell_type": "code",
   "execution_count": 62,
   "id": "8695e515",
   "metadata": {},
   "outputs": [
    {
     "name": "stdout",
     "output_type": "stream",
     "text": [
      "<class '__main__.Employee'>\n",
      "{'Name': 'Jam', 'Emp_id': 10234, 'Emp_email': 'dasjam12@xyzmail.com'}\n"
     ]
    },
    {
     "data": {
      "text/plain": [
       "'Jam'"
      ]
     },
     "execution_count": 62,
     "metadata": {},
     "output_type": "execute_result"
    }
   ],
   "source": [
    "emp1 = Employee('Jam',10234,'dasjam12@xyzmail.com')\n",
    "print(type(emp1))\n",
    "# print(help(emp1))\n",
    "print(emp1.__dict__)\n",
    "emp1.Name"
   ]
  },
  {
   "cell_type": "markdown",
   "id": "c3cd86fb",
   "metadata": {},
   "source": [
    "# class Methods"
   ]
  },
  {
   "cell_type": "code",
   "execution_count": 64,
   "id": "c6920bbe",
   "metadata": {},
   "outputs": [],
   "source": [
    "class Welcome():\n",
    "    def greet():\n",
    "        return 'Welcome to the class'"
   ]
  },
  {
   "cell_type": "code",
   "execution_count": 65,
   "id": "ba615d27",
   "metadata": {},
   "outputs": [],
   "source": [
    "w1 = Welcome()"
   ]
  },
  {
   "cell_type": "code",
   "execution_count": 66,
   "id": "f5c5e05f",
   "metadata": {},
   "outputs": [
    {
     "ename": "TypeError",
     "evalue": "Welcome.greet() takes 0 positional arguments but 1 was given",
     "output_type": "error",
     "traceback": [
      "\u001b[1;31m---------------------------------------------------------------------------\u001b[0m",
      "\u001b[1;31mTypeError\u001b[0m                                 Traceback (most recent call last)",
      "Cell \u001b[1;32mIn[66], line 1\u001b[0m\n\u001b[1;32m----> 1\u001b[0m w1\u001b[38;5;241m.\u001b[39mgreet()\n",
      "\u001b[1;31mTypeError\u001b[0m: Welcome.greet() takes 0 positional arguments but 1 was given"
     ]
    }
   ],
   "source": [
    "w1.greet()"
   ]
  },
  {
   "cell_type": "markdown",
   "id": "f2d99da8",
   "metadata": {},
   "source": [
    "#####  By default all methods are instance methods\n",
    "##### # to create class method, use  @classmethod decorator"
   ]
  },
  {
   "cell_type": "code",
   "execution_count": 68,
   "id": "a1e539a2",
   "metadata": {},
   "outputs": [],
   "source": [
    "class Welcome():\n",
    "    \n",
    "    @classmethod\n",
    "    def greet():\n",
    "        return 'Welcome to the class'"
   ]
  },
  {
   "cell_type": "code",
   "execution_count": 69,
   "id": "e0854aa1",
   "metadata": {},
   "outputs": [
    {
     "ename": "TypeError",
     "evalue": "Welcome.greet() takes 0 positional arguments but 1 was given",
     "output_type": "error",
     "traceback": [
      "\u001b[1;31m---------------------------------------------------------------------------\u001b[0m",
      "\u001b[1;31mTypeError\u001b[0m                                 Traceback (most recent call last)",
      "Cell \u001b[1;32mIn[69], line 2\u001b[0m\n\u001b[0;32m      1\u001b[0m w1 \u001b[38;5;241m=\u001b[39m Welcome()\n\u001b[1;32m----> 2\u001b[0m w1\u001b[38;5;241m.\u001b[39mgreet()\n",
      "\u001b[1;31mTypeError\u001b[0m: Welcome.greet() takes 0 positional arguments but 1 was given"
     ]
    }
   ],
   "source": [
    "w1 = Welcome()\n",
    "w1.greet()"
   ]
  },
  {
   "cell_type": "code",
   "execution_count": 71,
   "id": "392707d7",
   "metadata": {},
   "outputs": [
    {
     "data": {
      "text/plain": [
       "'Welcome to the class <__main__.Welcome object at 0x00000123C1AA7ED0>'"
      ]
     },
     "execution_count": 71,
     "metadata": {},
     "output_type": "execute_result"
    }
   ],
   "source": [
    "class Welcome():\n",
    "    \n",
    "#     @classmethod\n",
    "    def greet(self):\n",
    "        return f'Welcome to the class {self}'\n",
    "w1 = Welcome()\n",
    "w1.greet()"
   ]
  },
  {
   "cell_type": "code",
   "execution_count": 72,
   "id": "8ac48a88",
   "metadata": {},
   "outputs": [
    {
     "data": {
      "text/plain": [
       "\"Welcome to the class <class '__main__.Welcome'>\""
      ]
     },
     "execution_count": 72,
     "metadata": {},
     "output_type": "execute_result"
    }
   ],
   "source": [
    "class Welcome():\n",
    "    \n",
    "    @classmethod\n",
    "    def greet(cls):\n",
    "        return f'Welcome to the class {cls}'\n",
    "w1 = Welcome()\n",
    "w1.greet()"
   ]
  },
  {
   "cell_type": "code",
   "execution_count": 73,
   "id": "63b6ffbf",
   "metadata": {},
   "outputs": [
    {
     "data": {
      "text/plain": [
       "'Welcome to the class '"
      ]
     },
     "execution_count": 73,
     "metadata": {},
     "output_type": "execute_result"
    }
   ],
   "source": [
    "class Welcome():\n",
    "    \n",
    "    @classmethod\n",
    "    def greet(cls):\n",
    "        return f'Welcome to the class '\n",
    "w1 = Welcome()\n",
    "w1.greet()"
   ]
  },
  {
   "cell_type": "code",
   "execution_count": 89,
   "id": "a84a626f",
   "metadata": {},
   "outputs": [],
   "source": [
    "class Employee:\n",
    "    company = 'ABC'                                    # class variable\n",
    "    departments = ['HR','Account','Finance','IT']\n",
    "    \n",
    "    def __init__(self, name, emp_id, email):    # initializer/Constructor\n",
    "        self.Name = name                        # instance varibale\n",
    "        self.Emp_id = emp_id\n",
    "        self.Emp_email = email\n",
    "        \n",
    "    def Working(self):                       # instance method - bound to instance/object\n",
    "        hours = 8\n",
    "        return hours\n",
    "    \n",
    "    def details(self):            # instance method\n",
    "        return f'Employee name is {self.Name} and id is {self.Emp_id} '\n",
    "    \n",
    "    @classmethod                               # class method - bound to class\n",
    "    def greet(cls):\n",
    "        return f'Welcome to the class '"
   ]
  },
  {
   "cell_type": "code",
   "execution_count": 76,
   "id": "20890bbf",
   "metadata": {},
   "outputs": [
    {
     "ename": "TypeError",
     "evalue": "Employee.__init__() missing 3 required positional arguments: 'name', 'emp_id', and 'email'",
     "output_type": "error",
     "traceback": [
      "\u001b[1;31m---------------------------------------------------------------------------\u001b[0m",
      "\u001b[1;31mTypeError\u001b[0m                                 Traceback (most recent call last)",
      "Cell \u001b[1;32mIn[76], line 1\u001b[0m\n\u001b[1;32m----> 1\u001b[0m e1 \u001b[38;5;241m=\u001b[39m Employee()\n",
      "\u001b[1;31mTypeError\u001b[0m: Employee.__init__() missing 3 required positional arguments: 'name', 'emp_id', and 'email'"
     ]
    }
   ],
   "source": [
    "e1 = Employee()"
   ]
  },
  {
   "cell_type": "code",
   "execution_count": 91,
   "id": "1654895d",
   "metadata": {},
   "outputs": [
    {
     "name": "stdout",
     "output_type": "stream",
     "text": [
      "Employee name is John and id is 624102 \n",
      "Welcome to the class \n"
     ]
    }
   ],
   "source": [
    "e1 = Employee('John','624102','john@abcmail.com')\n",
    "print(e1.details())\n",
    "print(e1.greet())"
   ]
  },
  {
   "cell_type": "markdown",
   "id": "ac1d624a",
   "metadata": {},
   "source": [
    "# Static Methods:\n",
    "\n",
    "#### not bound to anything (object or class)\n",
    "#### static method is created using @staticmethod decorators\n"
   ]
  },
  {
   "cell_type": "code",
   "execution_count": 92,
   "id": "099be6b6",
   "metadata": {},
   "outputs": [],
   "source": [
    "class Static:\n",
    "    \n",
    "    @staticmethod\n",
    "    def welcome():\n",
    "        return 'Welcome'"
   ]
  },
  {
   "cell_type": "code",
   "execution_count": 94,
   "id": "713e8c1d",
   "metadata": {},
   "outputs": [
    {
     "data": {
      "text/plain": [
       "'Welcome'"
      ]
     },
     "execution_count": 94,
     "metadata": {},
     "output_type": "execute_result"
    }
   ],
   "source": [
    "s1 = Static()\n",
    "s1.welcome()"
   ]
  },
  {
   "cell_type": "code",
   "execution_count": 97,
   "id": "16805fc0",
   "metadata": {},
   "outputs": [
    {
     "name": "stdout",
     "output_type": "stream",
     "text": [
      "<class 'function'>\n"
     ]
    }
   ],
   "source": [
    "print(type(s1.welcome))"
   ]
  },
  {
   "cell_type": "code",
   "execution_count": 100,
   "id": "88953f33",
   "metadata": {},
   "outputs": [
    {
     "name": "stdout",
     "output_type": "stream",
     "text": [
      "<class 'method'>\n"
     ]
    }
   ],
   "source": [
    "print(type(e1.greet))"
   ]
  },
  {
   "cell_type": "code",
   "execution_count": null,
   "id": "678a75c7",
   "metadata": {},
   "outputs": [],
   "source": [
    "# function bound to a class is method and the function which are not bounded to class then it is functions only\n",
    "# so @classmethod type, the function inside it is method\n",
    "# and @staticmethod type, the function that are inside the staticmethod, it is function only"
   ]
  },
  {
   "cell_type": "code",
   "execution_count": null,
   "id": "9a88868a",
   "metadata": {},
   "outputs": [],
   "source": []
  },
  {
   "cell_type": "markdown",
   "id": "b96294bb",
   "metadata": {},
   "source": [
    "# Access Specifiers"
   ]
  },
  {
   "cell_type": "code",
   "execution_count": 1,
   "id": "4ee50e8a",
   "metadata": {},
   "outputs": [],
   "source": [
    "# it provides accessability of the variables\n",
    "# implementing data hiding\n"
   ]
  },
  {
   "cell_type": "code",
   "execution_count": null,
   "id": "f821e2b4",
   "metadata": {},
   "outputs": [],
   "source": [
    "# publi = accessable by everyone - inside the class and outside the class\n",
    "# private =  only accessable to that class where it is defined\n",
    "#protected =  accessable to the class and its child class - not accessabile outside the class"
   ]
  },
  {
   "cell_type": "code",
   "execution_count": 3,
   "id": "bc470063",
   "metadata": {},
   "outputs": [],
   "source": [
    "class Employee:\n",
    "    \n",
    "    company = 'ABC'       #public\n",
    "    _department = 'IT'    # protected(preceeding _)\n",
    "    __salary = 20000    #private (preceeding __)"
   ]
  },
  {
   "cell_type": "code",
   "execution_count": 5,
   "id": "84e8029c",
   "metadata": {},
   "outputs": [],
   "source": [
    "e1 = Employee()"
   ]
  },
  {
   "cell_type": "code",
   "execution_count": 7,
   "id": "d5007bdd",
   "metadata": {},
   "outputs": [
    {
     "data": {
      "text/plain": [
       "'ABC'"
      ]
     },
     "execution_count": 7,
     "metadata": {},
     "output_type": "execute_result"
    }
   ],
   "source": [
    "e1.company  #public "
   ]
  },
  {
   "cell_type": "code",
   "execution_count": 9,
   "id": "04fe015e",
   "metadata": {},
   "outputs": [
    {
     "data": {
      "text/plain": [
       "'IT'"
      ]
     },
     "execution_count": 9,
     "metadata": {},
     "output_type": "execute_result"
    }
   ],
   "source": [
    "e1._department  # In python, ther is no true protected access specifier"
   ]
  },
  {
   "cell_type": "code",
   "execution_count": 10,
   "id": "c57f6c82",
   "metadata": {},
   "outputs": [
    {
     "ename": "AttributeError",
     "evalue": "'Employee' object has no attribute '__salary'",
     "output_type": "error",
     "traceback": [
      "\u001b[1;31m---------------------------------------------------------------------------\u001b[0m",
      "\u001b[1;31mAttributeError\u001b[0m                            Traceback (most recent call last)",
      "Cell \u001b[1;32mIn[10], line 1\u001b[0m\n\u001b[1;32m----> 1\u001b[0m e1\u001b[38;5;241m.\u001b[39m__salary\n",
      "\u001b[1;31mAttributeError\u001b[0m: 'Employee' object has no attribute '__salary'"
     ]
    }
   ],
   "source": [
    "e1.__salary"
   ]
  },
  {
   "cell_type": "code",
   "execution_count": 11,
   "id": "5941dd1e",
   "metadata": {},
   "outputs": [
    {
     "data": {
      "text/plain": [
       "['_Employee__salary',\n",
       " '__class__',\n",
       " '__delattr__',\n",
       " '__dict__',\n",
       " '__dir__',\n",
       " '__doc__',\n",
       " '__eq__',\n",
       " '__format__',\n",
       " '__ge__',\n",
       " '__getattribute__',\n",
       " '__getstate__',\n",
       " '__gt__',\n",
       " '__hash__',\n",
       " '__init__',\n",
       " '__init_subclass__',\n",
       " '__le__',\n",
       " '__lt__',\n",
       " '__module__',\n",
       " '__ne__',\n",
       " '__new__',\n",
       " '__reduce__',\n",
       " '__reduce_ex__',\n",
       " '__repr__',\n",
       " '__setattr__',\n",
       " '__sizeof__',\n",
       " '__str__',\n",
       " '__subclasshook__',\n",
       " '__weakref__',\n",
       " '_department',\n",
       " 'company']"
      ]
     },
     "execution_count": 11,
     "metadata": {},
     "output_type": "execute_result"
    }
   ],
   "source": [
    "dir(e1)"
   ]
  },
  {
   "cell_type": "code",
   "execution_count": 12,
   "id": "a9c7e950",
   "metadata": {},
   "outputs": [
    {
     "name": "stdout",
     "output_type": "stream",
     "text": [
      "20000\n"
     ]
    }
   ],
   "source": [
    "print(e1._Employee__salary)"
   ]
  },
  {
   "cell_type": "code",
   "execution_count": null,
   "id": "85b45563",
   "metadata": {},
   "outputs": [],
   "source": [
    "# __var = _clas__var is called Name mangling"
   ]
  },
  {
   "cell_type": "markdown",
   "id": "d47213e9",
   "metadata": {},
   "source": [
    "# Encapsulation"
   ]
  },
  {
   "cell_type": "code",
   "execution_count": null,
   "id": "3f261cc1",
   "metadata": {},
   "outputs": [],
   "source": [
    "# Ecapsulation means binding of data and methods\n",
    "# attributes of the class should not be accessable"
   ]
  },
  {
   "cell_type": "code",
   "execution_count": null,
   "id": "8ac16a77",
   "metadata": {},
   "outputs": [],
   "source": [
    "# To avoid direct usage of attributes, we use Getter and Setter methods"
   ]
  },
  {
   "cell_type": "code",
   "execution_count": 6,
   "id": "93cb89a1",
   "metadata": {},
   "outputs": [],
   "source": [
    "class Employee:\n",
    "    company = 'ABC'\n",
    "    departments = ['HR','IT']\n",
    "    \n",
    "    def __init__(self,name,emp_id,email,sal):\n",
    "        self.Name = name\n",
    "        self.Emp_id = emp_id\n",
    "        self.email = email\n",
    "        self.sal = sal\n",
    "        \n",
    "    def get_salary(self):     #getter method\n",
    "        return self.sal\n",
    "    \n",
    "    def set_salary(self,new_sal):\n",
    "        self.sal = new_sal"
   ]
  },
  {
   "cell_type": "code",
   "execution_count": 8,
   "id": "42f7e0db",
   "metadata": {},
   "outputs": [
    {
     "name": "stdout",
     "output_type": "stream",
     "text": [
      "<__main__.Employee object at 0x00000160CDCBBB90>\n",
      "{'Name': 'John', 'Emp_id': 612934, 'email': 'john@abcmail.com', 'sal': 200000}\n"
     ]
    }
   ],
   "source": [
    "e1 = Employee(\"John\",612934,'john@abcmail.com',200000)\n",
    "print(e1)\n",
    "print(e1.__dict__)"
   ]
  },
  {
   "cell_type": "code",
   "execution_count": 10,
   "id": "26c81f36",
   "metadata": {},
   "outputs": [],
   "source": [
    "e1.set_salary(275000)"
   ]
  },
  {
   "cell_type": "code",
   "execution_count": 11,
   "id": "527cc7b2",
   "metadata": {},
   "outputs": [
    {
     "name": "stdout",
     "output_type": "stream",
     "text": [
      "{'Name': 'John', 'Emp_id': 612934, 'email': 'john@abcmail.com', 'sal': 275000}\n"
     ]
    }
   ],
   "source": [
    "print(e1.__dict__)"
   ]
  },
  {
   "cell_type": "code",
   "execution_count": 13,
   "id": "d3ca1ca3",
   "metadata": {},
   "outputs": [],
   "source": [
    "e1.set_salary(-1000)"
   ]
  },
  {
   "cell_type": "code",
   "execution_count": 14,
   "id": "bda36554",
   "metadata": {},
   "outputs": [
    {
     "name": "stdout",
     "output_type": "stream",
     "text": [
      "{'Name': 'John', 'Emp_id': 612934, 'email': 'john@abcmail.com', 'sal': -1000}\n"
     ]
    }
   ],
   "source": [
    "print(e1.__dict__)"
   ]
  },
  {
   "cell_type": "code",
   "execution_count": 15,
   "id": "600379c6",
   "metadata": {},
   "outputs": [],
   "source": [
    "class Employee:\n",
    "    company = 'ABC'\n",
    "    departments = ['HR','IT']\n",
    "    \n",
    "    def __init__(self,name,emp_id,email,sal):\n",
    "        self.Name = name\n",
    "        self.Emp_id = emp_id\n",
    "        self.email = email\n",
    "        self.sal = sal\n",
    "        \n",
    "    def get_salary(self):     #getter method\n",
    "        return self.sal\n",
    "    \n",
    "    def set_salary(self,new_sal):\n",
    "        if new_sal < 0:\n",
    "            print('Negative value not allowed')\n",
    "        else:\n",
    "            self.sal = new_sal"
   ]
  },
  {
   "cell_type": "code",
   "execution_count": 16,
   "id": "ab156c5e",
   "metadata": {},
   "outputs": [
    {
     "name": "stdout",
     "output_type": "stream",
     "text": [
      "<__main__.Employee object at 0x00000160CDBA4E10>\n",
      "{'Name': 'John', 'Emp_id': 612934, 'email': 'john@abcmail.com', 'sal': 200000}\n"
     ]
    }
   ],
   "source": [
    "e1 = Employee(\"John\",612934,'john@abcmail.com',200000)\n",
    "print(e1)\n",
    "print(e1.__dict__)"
   ]
  },
  {
   "cell_type": "code",
   "execution_count": 17,
   "id": "e957e5b3",
   "metadata": {},
   "outputs": [
    {
     "name": "stdout",
     "output_type": "stream",
     "text": [
      "Negative value not allowed\n"
     ]
    }
   ],
   "source": [
    "e1.set_salary(-1000)"
   ]
  },
  {
   "cell_type": "code",
   "execution_count": 18,
   "id": "5096dd68",
   "metadata": {},
   "outputs": [],
   "source": [
    "e1.set_salary = -1000"
   ]
  },
  {
   "cell_type": "code",
   "execution_count": 19,
   "id": "6e6d62ce",
   "metadata": {},
   "outputs": [
    {
     "name": "stdout",
     "output_type": "stream",
     "text": [
      "{'Name': 'John', 'Emp_id': 612934, 'email': 'john@abcmail.com', 'sal': 200000, 'set_salary': -1000}\n"
     ]
    }
   ],
   "source": [
    "print(e1.__dict__)"
   ]
  },
  {
   "cell_type": "code",
   "execution_count": 70,
   "id": "56a82dfb",
   "metadata": {},
   "outputs": [],
   "source": [
    "class Employee:\n",
    "    company = 'ABC'\n",
    "    departments = ['HR','IT']\n",
    "    \n",
    "    def __init__(self,name,emp_id,email,sal):\n",
    "        self.Name = name\n",
    "        self.Emp_id = emp_id\n",
    "        self.email = email\n",
    "        self.__sal = sal\n",
    "        \n",
    "    def get_salary(self):     #getter method\n",
    "        return self.__sal\n",
    "    \n",
    "    def set_salary(self,new_sal):\n",
    "        if new_sal < 0:\n",
    "            print('Negative value not allowed')\n",
    "        else:\n",
    "            self.__sal = new_sal"
   ]
  },
  {
   "cell_type": "code",
   "execution_count": 71,
   "id": "eb4ff86f",
   "metadata": {
    "scrolled": true
   },
   "outputs": [
    {
     "name": "stdout",
     "output_type": "stream",
     "text": [
      "<__main__.Employee object at 0x00000160CDC72010>\n",
      "{'Name': 'John', 'Emp_id': 612934, 'email': 'john@abcmail.com', '_Employee__sal': 200000}\n"
     ]
    }
   ],
   "source": [
    "e1 = Employee(\"John\",612934,'john@abcmail.com',200000)\n",
    "print(e1)\n",
    "print(e1.__dict__)"
   ]
  },
  {
   "cell_type": "code",
   "execution_count": 72,
   "id": "3ee637e0",
   "metadata": {
    "scrolled": false
   },
   "outputs": [
    {
     "name": "stdout",
     "output_type": "stream",
     "text": [
      "Negative value not allowed\n"
     ]
    }
   ],
   "source": [
    "e1.set_salary(-1000)"
   ]
  },
  {
   "cell_type": "code",
   "execution_count": 73,
   "id": "39db2f0b",
   "metadata": {},
   "outputs": [
    {
     "name": "stdout",
     "output_type": "stream",
     "text": [
      "200000\n",
      "\n",
      "350000\n"
     ]
    }
   ],
   "source": [
    "print(e1.get_salary())\n",
    "e1.set_salary(350000)\n",
    "print()\n",
    "print(e1.get_salary())"
   ]
  },
  {
   "cell_type": "code",
   "execution_count": 74,
   "id": "bdec8caf",
   "metadata": {
    "scrolled": true
   },
   "outputs": [
    {
     "name": "stdout",
     "output_type": "stream",
     "text": [
      "{'Name': 'John', 'Emp_id': 612934, 'email': 'john@abcmail.com', '_Employee__sal': 350000}\n"
     ]
    }
   ],
   "source": [
    "print(e1.__dict__)"
   ]
  },
  {
   "cell_type": "code",
   "execution_count": 75,
   "id": "da7fa5f2",
   "metadata": {
    "scrolled": false
   },
   "outputs": [],
   "source": [
    "e1.set_sal = -1000"
   ]
  },
  {
   "cell_type": "code",
   "execution_count": 76,
   "id": "29e62c31",
   "metadata": {
    "scrolled": true
   },
   "outputs": [
    {
     "name": "stdout",
     "output_type": "stream",
     "text": [
      "{'Name': 'John', 'Emp_id': 612934, 'email': 'john@abcmail.com', '_Employee__sal': 350000, 'set_sal': -1000}\n"
     ]
    }
   ],
   "source": [
    "print(e1.__dict__)"
   ]
  },
  {
   "cell_type": "code",
   "execution_count": 77,
   "id": "79175157",
   "metadata": {},
   "outputs": [],
   "source": [
    "e1.set_salary(450000)"
   ]
  },
  {
   "cell_type": "code",
   "execution_count": 78,
   "id": "53d174e3",
   "metadata": {},
   "outputs": [
    {
     "name": "stdout",
     "output_type": "stream",
     "text": [
      "{'Name': 'John', 'Emp_id': 612934, 'email': 'john@abcmail.com', '_Employee__sal': 450000, 'set_sal': -1000}\n"
     ]
    }
   ],
   "source": [
    "print(e1.__dict__)"
   ]
  },
  {
   "cell_type": "code",
   "execution_count": 82,
   "id": "37b5d811",
   "metadata": {},
   "outputs": [
    {
     "name": "stdout",
     "output_type": "stream",
     "text": [
      "John\n",
      "612934\n",
      "john@abcmail.com\n",
      "450000\n",
      "450000\n"
     ]
    }
   ],
   "source": [
    "print(e1.Name)\n",
    "print(e1.Emp_id)\n",
    "print(e1.email)\n",
    "print(e1.get_salary())\n",
    "print(e1._Employee__sal)   #Name mangling"
   ]
  },
  {
   "cell_type": "markdown",
   "id": "d93d3df9",
   "metadata": {},
   "source": [
    "## In Python, we use @property decorator to implement getter and setter\n",
    "\n",
    "######  while @property decorator returns datatype value and it is a not a method(function) in a class"
   ]
  },
  {
   "cell_type": "code",
   "execution_count": 84,
   "id": "c28fc12e",
   "metadata": {},
   "outputs": [],
   "source": [
    "class Employee:\n",
    "    company = 'ABC'\n",
    "    departments = ['HR','IT']\n",
    "    \n",
    "    def __init__(self,name,emp_id,email,sal):\n",
    "        self.Name = name\n",
    "        self.Emp_id = emp_id\n",
    "        self.email = email\n",
    "        self.__sal = sal\n",
    "    \n",
    "    @property    \n",
    "    def salary(self):     #getter method\n",
    "        return self.__sal\n",
    "    "
   ]
  },
  {
   "cell_type": "code",
   "execution_count": 87,
   "id": "aff164ee",
   "metadata": {},
   "outputs": [
    {
     "data": {
      "text/plain": [
       "{'Name': 'Das',\n",
       " 'Emp_id': '12093',\n",
       " 'email': 'das@abcmail.com',\n",
       " '_Employee__sal': 226700}"
      ]
     },
     "execution_count": 87,
     "metadata": {},
     "output_type": "execute_result"
    }
   ],
   "source": [
    "emp3 = Employee('Das','12093','das@abcmail.com',226700)\n",
    "emp3.__dict__"
   ]
  },
  {
   "cell_type": "code",
   "execution_count": 88,
   "id": "8040ce27",
   "metadata": {},
   "outputs": [
    {
     "name": "stdout",
     "output_type": "stream",
     "text": [
      "226700\n"
     ]
    }
   ],
   "source": [
    "print(emp3.salary)"
   ]
  },
  {
   "cell_type": "code",
   "execution_count": 89,
   "id": "807c4b38",
   "metadata": {},
   "outputs": [
    {
     "ename": "TypeError",
     "evalue": "'int' object is not callable",
     "output_type": "error",
     "traceback": [
      "\u001b[1;31m---------------------------------------------------------------------------\u001b[0m",
      "\u001b[1;31mTypeError\u001b[0m                                 Traceback (most recent call last)",
      "Cell \u001b[1;32mIn[89], line 1\u001b[0m\n\u001b[1;32m----> 1\u001b[0m emp3\u001b[38;5;241m.\u001b[39msalary()\n",
      "\u001b[1;31mTypeError\u001b[0m: 'int' object is not callable"
     ]
    }
   ],
   "source": [
    "emp3.salary()"
   ]
  },
  {
   "cell_type": "code",
   "execution_count": 103,
   "id": "dca699b1",
   "metadata": {},
   "outputs": [],
   "source": [
    "class Employee:\n",
    "    company = 'ABC'\n",
    "    departments = ['HR','IT']\n",
    "    \n",
    "    def __init__(self,name,emp_id,email,sal):\n",
    "        self.Name = name\n",
    "        self.Emp_id = emp_id\n",
    "        self.email = email\n",
    "        self.__sal = sal\n",
    "    \n",
    "    @property    \n",
    "    def salary(self):     #getter method\n",
    "        return self.__sal\n",
    "    \n",
    "    @salary.setter\n",
    "    def upd_salary(self,new_sal): ## setter method\n",
    "        if new_sal < 0:\n",
    "            print('Negative value not allowed')\n",
    "        else:\n",
    "            self.__sal = new_sal"
   ]
  },
  {
   "cell_type": "code",
   "execution_count": 104,
   "id": "a2b8be97",
   "metadata": {
    "scrolled": true
   },
   "outputs": [
    {
     "data": {
      "text/plain": [
       "{'Name': 'soas',\n",
       " 'Emp_id': 345433,\n",
       " 'email': 'soas@abcmail.com',\n",
       " '_Employee__sal': 200700}"
      ]
     },
     "execution_count": 104,
     "metadata": {},
     "output_type": "execute_result"
    }
   ],
   "source": [
    "emp4 = Employee('soas',345433,'soas@abcmail.com',200700)\n",
    "emp4.__dict__"
   ]
  },
  {
   "cell_type": "code",
   "execution_count": 105,
   "id": "09c69c54",
   "metadata": {
    "scrolled": false
   },
   "outputs": [
    {
     "data": {
      "text/plain": [
       "200700"
      ]
     },
     "execution_count": 105,
     "metadata": {},
     "output_type": "execute_result"
    }
   ],
   "source": [
    "emp4.salary"
   ]
  },
  {
   "cell_type": "code",
   "execution_count": 106,
   "id": "c5647d02",
   "metadata": {
    "scrolled": false
   },
   "outputs": [],
   "source": [
    "emp4.upd_salary = 500000"
   ]
  },
  {
   "cell_type": "code",
   "execution_count": 107,
   "id": "e8b955c4",
   "metadata": {},
   "outputs": [
    {
     "data": {
      "text/plain": [
       "500000"
      ]
     },
     "execution_count": 107,
     "metadata": {},
     "output_type": "execute_result"
    }
   ],
   "source": [
    "emp4.salary"
   ]
  },
  {
   "cell_type": "code",
   "execution_count": 109,
   "id": "99cff4df",
   "metadata": {},
   "outputs": [
    {
     "name": "stdout",
     "output_type": "stream",
     "text": [
      "Negative value not allowed\n"
     ]
    }
   ],
   "source": [
    "emp4.upd_salary = -150"
   ]
  },
  {
   "cell_type": "code",
   "execution_count": 111,
   "id": "0838adda",
   "metadata": {},
   "outputs": [
    {
     "ename": "TypeError",
     "evalue": "'int' object is not callable",
     "output_type": "error",
     "traceback": [
      "\u001b[1;31m---------------------------------------------------------------------------\u001b[0m",
      "\u001b[1;31mTypeError\u001b[0m                                 Traceback (most recent call last)",
      "Cell \u001b[1;32mIn[111], line 1\u001b[0m\n\u001b[1;32m----> 1\u001b[0m emp4\u001b[38;5;241m.\u001b[39mupd_salary(\u001b[38;5;241m450000\u001b[39m)\n",
      "\u001b[1;31mTypeError\u001b[0m: 'int' object is not callable"
     ]
    }
   ],
   "source": [
    "emp4.upd_salary(450000)"
   ]
  },
  {
   "cell_type": "markdown",
   "id": "06c1c8dc",
   "metadata": {},
   "source": [
    "# Inheritance"
   ]
  },
  {
   "cell_type": "code",
   "execution_count": null,
   "id": "e0651e7d",
   "metadata": {},
   "outputs": [],
   "source": [
    "# inherit the attributes and methods of a class in another class"
   ]
  },
  {
   "cell_type": "code",
   "execution_count": 118,
   "id": "a1dcf018",
   "metadata": {},
   "outputs": [],
   "source": [
    "class Vehicle:\n",
    "    \n",
    "    company = 'BMW'\n",
    "    \n",
    "    def __init__(self,mileage, fuel_capacity,engine):\n",
    "        self.m = mileage\n",
    "        self.f = fuel_capacity\n",
    "        self.e = engine\n",
    "        \n",
    "    def vehicle_details(self):\n",
    "        return f'{self.company} vehicle has mileage of {self.m} and fuel capacity of {self.f} with {self.e} cylider engine'"
   ]
  },
  {
   "cell_type": "code",
   "execution_count": 119,
   "id": "49fda754",
   "metadata": {},
   "outputs": [],
   "source": [
    "v1 = Vehicle(60,30,2)"
   ]
  },
  {
   "cell_type": "code",
   "execution_count": 120,
   "id": "7a920c98",
   "metadata": {},
   "outputs": [
    {
     "data": {
      "text/plain": [
       "'BMW vehicle has mileage of 60 and fuel capacity of 30 with 2 cylider engine'"
      ]
     },
     "execution_count": 120,
     "metadata": {},
     "output_type": "execute_result"
    }
   ],
   "source": [
    "v1.vehicle_details()"
   ]
  },
  {
   "cell_type": "code",
   "execution_count": 121,
   "id": "4eab58d0",
   "metadata": {},
   "outputs": [],
   "source": [
    "class Car(Vehicle):\n",
    "    pass"
   ]
  },
  {
   "cell_type": "code",
   "execution_count": 126,
   "id": "cb157803",
   "metadata": {
    "scrolled": true
   },
   "outputs": [],
   "source": [
    "c1 = Car(30,17,3)"
   ]
  },
  {
   "cell_type": "code",
   "execution_count": 127,
   "id": "313b6843",
   "metadata": {},
   "outputs": [
    {
     "data": {
      "text/plain": [
       "'BMW vehicle has mileage of 30 and fuel capacity of 17 with 3 cylider engine'"
      ]
     },
     "execution_count": 127,
     "metadata": {},
     "output_type": "execute_result"
    }
   ],
   "source": [
    "c1.vehicle_details()"
   ]
  },
  {
   "cell_type": "code",
   "execution_count": 128,
   "id": "950d6ed5",
   "metadata": {},
   "outputs": [],
   "source": [
    "# parent class\n",
    "class Vehicle:\n",
    "    \n",
    "    company = 'BMW'\n",
    "    \n",
    "    def __init__(self,mileage, fuel_capacity,engine):\n",
    "        self.m = mileage\n",
    "        self.f = fuel_capacity\n",
    "        self.e = engine\n",
    "        \n",
    "    def vehicle_details(self):\n",
    "        return f'{self.company} vehicle has mileage of {self.m} and fuel capacity of {self.f} with {self.e} cylider engine'\n",
    "\n",
    "# child class\n",
    "class Car(Vehicle):\n",
    "    def __init__(self,seats):\n",
    "        self.s = seats\n",
    "    def car_details(self):\n",
    "        return f'Car is {self.s}  seater vehicle'"
   ]
  },
  {
   "cell_type": "code",
   "execution_count": 129,
   "id": "1c77c374",
   "metadata": {},
   "outputs": [],
   "source": [
    "c = Car(4)"
   ]
  },
  {
   "cell_type": "code",
   "execution_count": 130,
   "id": "3485ff75",
   "metadata": {},
   "outputs": [
    {
     "data": {
      "text/plain": [
       "'Car is 4  seater vehicle'"
      ]
     },
     "execution_count": 130,
     "metadata": {},
     "output_type": "execute_result"
    }
   ],
   "source": [
    "c.car_details()"
   ]
  },
  {
   "cell_type": "code",
   "execution_count": 131,
   "id": "1d691eda",
   "metadata": {},
   "outputs": [
    {
     "ename": "AttributeError",
     "evalue": "'Car' object has no attribute 'm'",
     "output_type": "error",
     "traceback": [
      "\u001b[1;31m---------------------------------------------------------------------------\u001b[0m",
      "\u001b[1;31mAttributeError\u001b[0m                            Traceback (most recent call last)",
      "Cell \u001b[1;32mIn[131], line 1\u001b[0m\n\u001b[1;32m----> 1\u001b[0m c\u001b[38;5;241m.\u001b[39mvehicle_details()\n",
      "Cell \u001b[1;32mIn[128], line 12\u001b[0m, in \u001b[0;36mVehicle.vehicle_details\u001b[1;34m(self)\u001b[0m\n\u001b[0;32m     11\u001b[0m \u001b[38;5;28;01mdef\u001b[39;00m \u001b[38;5;21mvehicle_details\u001b[39m(\u001b[38;5;28mself\u001b[39m):\n\u001b[1;32m---> 12\u001b[0m     \u001b[38;5;28;01mreturn\u001b[39;00m \u001b[38;5;124mf\u001b[39m\u001b[38;5;124m'\u001b[39m\u001b[38;5;132;01m{\u001b[39;00m\u001b[38;5;28mself\u001b[39m\u001b[38;5;241m.\u001b[39mcompany\u001b[38;5;132;01m}\u001b[39;00m\u001b[38;5;124m vehicle has mileage of \u001b[39m\u001b[38;5;132;01m{\u001b[39;00m\u001b[38;5;28mself\u001b[39m\u001b[38;5;241m.\u001b[39mm\u001b[38;5;132;01m}\u001b[39;00m\u001b[38;5;124m and fuel capacity of \u001b[39m\u001b[38;5;132;01m{\u001b[39;00m\u001b[38;5;28mself\u001b[39m\u001b[38;5;241m.\u001b[39mf\u001b[38;5;132;01m}\u001b[39;00m\u001b[38;5;124m with \u001b[39m\u001b[38;5;132;01m{\u001b[39;00m\u001b[38;5;28mself\u001b[39m\u001b[38;5;241m.\u001b[39me\u001b[38;5;132;01m}\u001b[39;00m\u001b[38;5;124m cylider engine\u001b[39m\u001b[38;5;124m'\u001b[39m\n",
      "\u001b[1;31mAttributeError\u001b[0m: 'Car' object has no attribute 'm'"
     ]
    }
   ],
   "source": [
    "c.vehicle_details()"
   ]
  },
  {
   "cell_type": "code",
   "execution_count": 135,
   "id": "9f87eb23",
   "metadata": {},
   "outputs": [],
   "source": [
    "# parent class\n",
    "class Vehicle:\n",
    "    \n",
    "    company = 'BMW'\n",
    "    \n",
    "    def __init__(self,mileage, fuel_capacity,engine):\n",
    "        self.m = mileage\n",
    "        self.f = fuel_capacity\n",
    "        self.e = engine\n",
    "        \n",
    "    def vehicle_details(self):\n",
    "        return f'{self.company} vehicle has mileage of {self.m} and fuel capacity of {self.f} with {self.e} cylider engine'\n",
    "\n",
    "# child class\n",
    "class Car(Vehicle):\n",
    "    def __init__(self,seats,mil,fc,eng):\n",
    "        self.s = seats\n",
    "        Vehicle.__init__(self,mil,fc,eng)\n",
    "        \n",
    "        \n",
    "        \n",
    "    def car_details(self):\n",
    "        return f'Car is {self.s}  seater vehicle'"
   ]
  },
  {
   "cell_type": "code",
   "execution_count": 136,
   "id": "3bf8d238",
   "metadata": {
    "scrolled": false
   },
   "outputs": [],
   "source": [
    "c1 = Car(4,30,50,4)"
   ]
  },
  {
   "cell_type": "code",
   "execution_count": 138,
   "id": "dbe911f8",
   "metadata": {},
   "outputs": [
    {
     "name": "stdout",
     "output_type": "stream",
     "text": [
      "BMW\n",
      "Car is 4  seater vehicle\n",
      "BMW vehicle has mileage of 30 and fuel capacity of 50 with 4 cylider engine\n"
     ]
    }
   ],
   "source": [
    "print(c1.company)\n",
    "print(c1.car_details())\n",
    "print(c1.vehicle_details())"
   ]
  },
  {
   "cell_type": "code",
   "execution_count": 145,
   "id": "cdaa8909",
   "metadata": {},
   "outputs": [],
   "source": [
    "# parent class\n",
    "class Vehicle:\n",
    "    \n",
    "    company = 'BMW'\n",
    "    \n",
    "    def __init__(self,mileage, fuel_capacity,engine):\n",
    "        self.m = mileage\n",
    "        self.f = fuel_capacity\n",
    "        self.e = engine\n",
    "        \n",
    "    def vehicle_details(self):\n",
    "        return f'{self.company} vehicle has mileage of {self.m} and fuel capacity of {self.f} with {self.e} cylider engine'\n",
    "\n",
    "# child class\n",
    "class Car(Vehicle):\n",
    "    def __init__(self,seats,mil,fc,eng):\n",
    "        self.s = seats\n",
    "        Vehicle.__init__(self,mil,fc,eng)\n",
    "        \n",
    "        \n",
    "        \n",
    "    def car_details(self):\n",
    "        print(self.vehicle_details())\n",
    "        return f'Car is {self.s}  seater vehicle  of {self.company} vehicle has mileage of {self.m} and fuel capacity of {self.f} with {self.e} cylider engine'"
   ]
  },
  {
   "cell_type": "code",
   "execution_count": 146,
   "id": "b79e4162",
   "metadata": {
    "scrolled": false
   },
   "outputs": [
    {
     "name": "stdout",
     "output_type": "stream",
     "text": [
      "BMW vehicle has mileage of 30 and fuel capacity of 50 with 4 cylider engine\n",
      "Car is 4  seater vehicle  of BMW vehicle has mileage of 30 and fuel capacity of 50 with 4 cylider engine\n"
     ]
    }
   ],
   "source": [
    "c2 = Car(4,30,50,4)\n",
    "print(c2.car_details())"
   ]
  },
  {
   "cell_type": "markdown",
   "id": "5929b442",
   "metadata": {},
   "source": [
    "# super method\n",
    "#### used to call parent class"
   ]
  },
  {
   "cell_type": "code",
   "execution_count": 147,
   "id": "af4786d5",
   "metadata": {},
   "outputs": [
    {
     "name": "stdout",
     "output_type": "stream",
     "text": [
      "BMW vehicle has mileage of 18 and fuel capacity of 55 with 4 cylider engine\n",
      "BMW vehicle has mileage of 18 and fuel capacity of 55 with 4 cylider engine\n",
      "BMW vehicle has mileage of 18 and fuel capacity of 55 with 4 cylider engine\n"
     ]
    },
    {
     "data": {
      "text/plain": [
       "'Car is 4  seater vehicle  of BMW vehicle has mileage of 18 and fuel capacity of 55 with 4 cylider engine'"
      ]
     },
     "execution_count": 147,
     "metadata": {},
     "output_type": "execute_result"
    }
   ],
   "source": [
    "# parent class\n",
    "class Vehicle:\n",
    "    \n",
    "    company = 'BMW'\n",
    "    \n",
    "    def __init__(self,mileage, fuel_capacity,engine):\n",
    "        self.m = mileage\n",
    "        self.f = fuel_capacity\n",
    "        self.e = engine\n",
    "        \n",
    "    def vehicle_details(self):\n",
    "        return f'{self.company} vehicle has mileage of {self.m} and fuel capacity of {self.f} with {self.e} cylider engine'\n",
    "\n",
    "# child class\n",
    "class Car(Vehicle):\n",
    "    def __init__(self,seats,mil,fc,eng):\n",
    "        self.s = seats\n",
    "        super().__init__(mil,fc,eng)\n",
    "#         Vehicle.__init__(self,mil,fc,eng)\n",
    "        \n",
    "        \n",
    "        \n",
    "    def car_details(self):\n",
    "        \n",
    "        print(self.vehicle_details())\n",
    "        print(super().vehicle_details())\n",
    "        print(Vehicle.vehicle_details(self))\n",
    "        return f'Car is {self.s}  seater vehicle  of {self.company} vehicle has mileage of {self.m} and fuel capacity of {self.f} with {self.e} cylider engine'\n",
    "    \n",
    "    \n",
    "c3 = Car(4,18,55,4)\n",
    "c3.car_details()"
   ]
  },
  {
   "cell_type": "code",
   "execution_count": 150,
   "id": "95941cbe",
   "metadata": {},
   "outputs": [],
   "source": [
    "# parent class\n",
    "class Vehicle:\n",
    "    \n",
    "    company = 'BMW'\n",
    "    \n",
    "    def __init__(self,mileage, fuel_capacity,engine):\n",
    "        self.m = mileage\n",
    "        self.f = fuel_capacity\n",
    "        self.e = engine\n",
    "        \n",
    "    def vehicle_details(self):\n",
    "        return f'{self.company} vehicle has mileage of {self.m} and fuel capacity of {self.f} with {self.e} cylider engine'\n",
    "\n",
    "class Color:\n",
    "    \n",
    "    def __init__(self,color):\n",
    "        self.c = color\n",
    "\n",
    "        \n",
    "class Type:\n",
    "    def __init__(self,engine_type):\n",
    "        self.t = engine_type\n",
    "    \n",
    "class Car(Vehicle,Color,Type):\n",
    "    def __init__(self,seats,mil,fc,eng,col,ty):\n",
    "        self.s = seats\n",
    "#         Vehicle.__init__(self,mil,fc,eng)\n",
    "        super().__init__(mil,fc,eng)\n",
    "\n",
    "#         Color.__init__(self,color)\n",
    "        super(Vehicle,self).__init__(col)\n",
    "        \n",
    "#         Type.__init__(self,typ)\n",
    "        super(Color,self).__init__(ty)\n",
    "\n",
    "        \n",
    "        \n",
    "        \n",
    "    def car_details(self):\n",
    "        return f'{self.c} Car is {self.s}  seater vehicle  of {self.company} vehicle has mileage of {self.m} and fuel capacity of {self.f} with {self.e} cylider {self.t} engine'\n",
    "    "
   ]
  },
  {
   "cell_type": "code",
   "execution_count": 151,
   "id": "4f8c1dd3",
   "metadata": {},
   "outputs": [],
   "source": [
    "c4 = Car(4,17,50,4,'Blue','Petrol')"
   ]
  },
  {
   "cell_type": "code",
   "execution_count": 152,
   "id": "a6d7a60e",
   "metadata": {},
   "outputs": [
    {
     "data": {
      "text/plain": [
       "'Blue Car is 4  seater vehicle  of BMW vehicle has mileage of 17 and fuel capacity of 50 with 4 cylider Petrol engine'"
      ]
     },
     "execution_count": 152,
     "metadata": {},
     "output_type": "execute_result"
    }
   ],
   "source": [
    "c4.car_details()"
   ]
  },
  {
   "cell_type": "markdown",
   "id": "f9a5a09e",
   "metadata": {},
   "source": [
    "## Multilevel Inheritance"
   ]
  },
  {
   "cell_type": "code",
   "execution_count": null,
   "id": "f3c25dfc",
   "metadata": {},
   "outputs": [],
   "source": [
    "# A -> B -> C"
   ]
  },
  {
   "cell_type": "code",
   "execution_count": 155,
   "id": "742106d9",
   "metadata": {},
   "outputs": [],
   "source": [
    "class Company:\n",
    "    company = 'Siemens'\n",
    "class Department(Company):\n",
    "    dept_name = 'System Engineer'\n",
    "class Employee(Department):\n",
    "    def __init__(self,name,emp_id):\n",
    "        self.name = name\n",
    "        self.id = emp_id\n",
    "        \n",
    "    def get_details(self):\n",
    "        print(f'{self.name} with employee id {self.id} work in {super().dept_name} for {super().company}')\n",
    "        return f'{self.name} with employee id - {self.id}, work in {self.dept_name} for {self.company}'"
   ]
  },
  {
   "cell_type": "code",
   "execution_count": 156,
   "id": "774f7301",
   "metadata": {},
   "outputs": [
    {
     "name": "stdout",
     "output_type": "stream",
     "text": [
      "Suswa with employee id 92bG23 work in System Engineer for Siemens\n"
     ]
    },
    {
     "data": {
      "text/plain": [
       "' Suswa with employee id 92bG23 work in System Engineer for Siemens'"
      ]
     },
     "execution_count": 156,
     "metadata": {},
     "output_type": "execute_result"
    }
   ],
   "source": [
    "e1 = Employee('Suswa','92bG23')\n",
    "e1.get_details()"
   ]
  },
  {
   "cell_type": "markdown",
   "id": "4c3779cb",
   "metadata": {},
   "source": [
    "# Method Resolution Order (MRO)"
   ]
  },
  {
   "cell_type": "code",
   "execution_count": null,
   "id": "1b2369ad",
   "metadata": {},
   "outputs": [],
   "source": [
    "#  the order in which methods will be called "
   ]
  },
  {
   "cell_type": "code",
   "execution_count": 158,
   "id": "c886ba40",
   "metadata": {},
   "outputs": [
    {
     "data": {
      "text/plain": [
       "(__main__.Employee, __main__.Department, __main__.Company, object)"
      ]
     },
     "execution_count": 158,
     "metadata": {},
     "output_type": "execute_result"
    }
   ],
   "source": [
    "# help(Employee)\n",
    "Employee.__mro__"
   ]
  },
  {
   "cell_type": "code",
   "execution_count": 159,
   "id": "1706eca8",
   "metadata": {},
   "outputs": [
    {
     "name": "stdout",
     "output_type": "stream",
     "text": [
      "Siemens\n"
     ]
    }
   ],
   "source": [
    "print(e1.company)"
   ]
  }
 ],
 "metadata": {
  "kernelspec": {
   "display_name": "Python 3 (ipykernel)",
   "language": "python",
   "name": "python3"
  },
  "language_info": {
   "codemirror_mode": {
    "name": "ipython",
    "version": 3
   },
   "file_extension": ".py",
   "mimetype": "text/x-python",
   "name": "python",
   "nbconvert_exporter": "python",
   "pygments_lexer": "ipython3",
   "version": "3.11.3"
  }
 },
 "nbformat": 4,
 "nbformat_minor": 5
}
